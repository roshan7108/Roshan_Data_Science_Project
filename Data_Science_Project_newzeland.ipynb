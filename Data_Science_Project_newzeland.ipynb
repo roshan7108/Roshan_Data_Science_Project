{
 "cells": [
  {
   "cell_type": "markdown",
   "id": "639f3341-2b5b-4b11-b0e9-e18429b6faa7",
   "metadata": {},
   "source": [
    "## Problem Statement - The objective is to develop a machine learning model that can predict the power consumption (Zone 1 Power Consumption) of Wellington, New Zealand based on various environmental and meteorological factors. The goal is to create an accurate predictive model that can assist in managing energy resources efficiently and optimizing power consumption in that zone"
   ]
  },
  {
   "cell_type": "markdown",
   "id": "13e06c4c-270b-4a40-8d12-ed108b84db82",
   "metadata": {},
   "source": [
    "# As per probelem statement we have to develop a ML model that will predict the power consumption"
   ]
  },
  {
   "cell_type": "code",
   "execution_count": 1,
   "id": "50ecc9e4-da45-4ae9-a0b7-a9e03e16e98a",
   "metadata": {},
   "outputs": [],
   "source": [
    "# importing all the necessary library\n",
    "\n",
    "import pandas as pd\n",
    "import numpy as np\n",
    "import matplotlib.pyplot as plt\n",
    "import seaborn as sns\n",
    "import warnings\n",
    "warnings.filterwarnings(\"ignore\")\n",
    "from sklearn.preprocessing import MinMaxScaler\n",
    "from sklearn.model_selection import train_test_split\n",
    "sns.set()"
   ]
  },
  {
   "cell_type": "code",
   "execution_count": 2,
   "id": "0163534a-98d9-4325-84b4-5a76b0660f64",
   "metadata": {},
   "outputs": [],
   "source": [
    "# uploaded the dataset\n",
    "\n",
    "df = pd.read_csv('Data_Project.csv')"
   ]
  },
  {
   "cell_type": "code",
   "execution_count": 3,
   "id": "5c72879c-ca7f-473c-bbdb-4815378343fa",
   "metadata": {},
   "outputs": [
    {
     "data": {
      "text/html": [
       "<div>\n",
       "<style scoped>\n",
       "    .dataframe tbody tr th:only-of-type {\n",
       "        vertical-align: middle;\n",
       "    }\n",
       "\n",
       "    .dataframe tbody tr th {\n",
       "        vertical-align: top;\n",
       "    }\n",
       "\n",
       "    .dataframe thead th {\n",
       "        text-align: right;\n",
       "    }\n",
       "</style>\n",
       "<table border=\"1\" class=\"dataframe\">\n",
       "  <thead>\n",
       "    <tr style=\"text-align: right;\">\n",
       "      <th></th>\n",
       "      <th>S no</th>\n",
       "      <th>Temperature</th>\n",
       "      <th>Humidity</th>\n",
       "      <th>Wind Speed</th>\n",
       "      <th>general diffuse flows</th>\n",
       "      <th>diffuse flows</th>\n",
       "      <th>Air Quality Index (PM)</th>\n",
       "      <th>Cloudiness</th>\n",
       "      <th>Power Consumption in A Zone</th>\n",
       "    </tr>\n",
       "  </thead>\n",
       "  <tbody>\n",
       "    <tr>\n",
       "      <th>0</th>\n",
       "      <td>1</td>\n",
       "      <td>6.559</td>\n",
       "      <td>73.8</td>\n",
       "      <td>0.083</td>\n",
       "      <td>0.051</td>\n",
       "      <td>0.119</td>\n",
       "      <td>158.0</td>\n",
       "      <td>1</td>\n",
       "      <td>34055.69620</td>\n",
       "    </tr>\n",
       "    <tr>\n",
       "      <th>1</th>\n",
       "      <td>2</td>\n",
       "      <td>6.414</td>\n",
       "      <td>74.5</td>\n",
       "      <td>0.083</td>\n",
       "      <td>0.070</td>\n",
       "      <td>0.085</td>\n",
       "      <td>159.0</td>\n",
       "      <td>1</td>\n",
       "      <td>29814.68354</td>\n",
       "    </tr>\n",
       "    <tr>\n",
       "      <th>2</th>\n",
       "      <td>3</td>\n",
       "      <td>6.313</td>\n",
       "      <td>74.5</td>\n",
       "      <td>0.08</td>\n",
       "      <td>0.062</td>\n",
       "      <td>0.100</td>\n",
       "      <td>151.0</td>\n",
       "      <td>1</td>\n",
       "      <td>29128.10127</td>\n",
       "    </tr>\n",
       "    <tr>\n",
       "      <th>3</th>\n",
       "      <td>4</td>\n",
       "      <td>6.121</td>\n",
       "      <td>75</td>\n",
       "      <td>0.083</td>\n",
       "      <td>0.091</td>\n",
       "      <td>0.096</td>\n",
       "      <td>151.0</td>\n",
       "      <td>1</td>\n",
       "      <td>28228.86076</td>\n",
       "    </tr>\n",
       "    <tr>\n",
       "      <th>4</th>\n",
       "      <td>5</td>\n",
       "      <td>5.921</td>\n",
       "      <td>75.7</td>\n",
       "      <td>0.081</td>\n",
       "      <td>0.048</td>\n",
       "      <td>0.085</td>\n",
       "      <td>154.0</td>\n",
       "      <td>1</td>\n",
       "      <td>27335.69620</td>\n",
       "    </tr>\n",
       "  </tbody>\n",
       "</table>\n",
       "</div>"
      ],
      "text/plain": [
       "   S no Temperature Humidity Wind Speed  general diffuse flows  diffuse flows  \\\n",
       "0     1       6.559     73.8      0.083                  0.051          0.119   \n",
       "1     2       6.414     74.5      0.083                  0.070          0.085   \n",
       "2     3       6.313     74.5       0.08                  0.062          0.100   \n",
       "3     4       6.121       75      0.083                  0.091          0.096   \n",
       "4     5       5.921     75.7      0.081                  0.048          0.085   \n",
       "\n",
       "   Air Quality Index (PM)  Cloudiness   Power Consumption in A Zone  \n",
       "0                   158.0           1                   34055.69620  \n",
       "1                   159.0           1                   29814.68354  \n",
       "2                   151.0           1                   29128.10127  \n",
       "3                   151.0           1                   28228.86076  \n",
       "4                   154.0           1                   27335.69620  "
      ]
     },
     "execution_count": 3,
     "metadata": {},
     "output_type": "execute_result"
    }
   ],
   "source": [
    "# checking the data\n",
    "\n",
    "df.head()"
   ]
  },
  {
   "cell_type": "markdown",
   "id": "db08f27e-43c5-4f03-9e71-0c154f5a18a6",
   "metadata": {},
   "source": [
    "### As a data scientist we need to check shape,information"
   ]
  },
  {
   "cell_type": "code",
   "execution_count": 4,
   "id": "b862d6d0-d84c-4135-ad2d-27eb549efe93",
   "metadata": {},
   "outputs": [
    {
     "data": {
      "text/plain": [
       "(52583, 9)"
      ]
     },
     "execution_count": 4,
     "metadata": {},
     "output_type": "execute_result"
    }
   ],
   "source": [
    "df.shape"
   ]
  },
  {
   "cell_type": "code",
   "execution_count": 5,
   "id": "1e60913e-6a06-4ad9-9437-11af7ca44619",
   "metadata": {},
   "outputs": [
    {
     "name": "stdout",
     "output_type": "stream",
     "text": [
      "<class 'pandas.core.frame.DataFrame'>\n",
      "RangeIndex: 52583 entries, 0 to 52582\n",
      "Data columns (total 9 columns):\n",
      " #   Column                        Non-Null Count  Dtype  \n",
      "---  ------                        --------------  -----  \n",
      " 0   S no                          52583 non-null  int64  \n",
      " 1   Temperature                   52263 non-null  object \n",
      " 2   Humidity                      52558 non-null  object \n",
      " 3   Wind Speed                    52512 non-null  object \n",
      " 4   general diffuse flows         52275 non-null  float64\n",
      " 5   diffuse flows                 52568 non-null  float64\n",
      " 6   Air Quality Index (PM)        52565 non-null  float64\n",
      " 7   Cloudiness                    52583 non-null  int64  \n",
      " 8    Power Consumption in A Zone  52583 non-null  float64\n",
      "dtypes: float64(4), int64(2), object(3)\n",
      "memory usage: 3.6+ MB\n"
     ]
    }
   ],
   "source": [
    "df.info()"
   ]
  },
  {
   "cell_type": "code",
   "execution_count": 6,
   "id": "2a17dda5-d078-4c42-b525-93892fc812a7",
   "metadata": {},
   "outputs": [
    {
     "data": {
      "text/html": [
       "<div>\n",
       "<style scoped>\n",
       "    .dataframe tbody tr th:only-of-type {\n",
       "        vertical-align: middle;\n",
       "    }\n",
       "\n",
       "    .dataframe tbody tr th {\n",
       "        vertical-align: top;\n",
       "    }\n",
       "\n",
       "    .dataframe thead th {\n",
       "        text-align: right;\n",
       "    }\n",
       "</style>\n",
       "<table border=\"1\" class=\"dataframe\">\n",
       "  <thead>\n",
       "    <tr style=\"text-align: right;\">\n",
       "      <th></th>\n",
       "      <th>S no</th>\n",
       "      <th>general diffuse flows</th>\n",
       "      <th>diffuse flows</th>\n",
       "      <th>Air Quality Index (PM)</th>\n",
       "      <th>Cloudiness</th>\n",
       "      <th>Power Consumption in A Zone</th>\n",
       "    </tr>\n",
       "  </thead>\n",
       "  <tbody>\n",
       "    <tr>\n",
       "      <th>count</th>\n",
       "      <td>52583.000000</td>\n",
       "      <td>52275.000000</td>\n",
       "      <td>52568.000000</td>\n",
       "      <td>52565.000000</td>\n",
       "      <td>52583.000000</td>\n",
       "      <td>52583.000000</td>\n",
       "    </tr>\n",
       "    <tr>\n",
       "      <th>mean</th>\n",
       "      <td>26292.000000</td>\n",
       "      <td>182.964247</td>\n",
       "      <td>74.872330</td>\n",
       "      <td>154.499191</td>\n",
       "      <td>0.009338</td>\n",
       "      <td>31061.821779</td>\n",
       "    </tr>\n",
       "    <tr>\n",
       "      <th>std</th>\n",
       "      <td>15179.548939</td>\n",
       "      <td>264.571351</td>\n",
       "      <td>124.084858</td>\n",
       "      <td>2.871553</td>\n",
       "      <td>0.096180</td>\n",
       "      <td>8021.057455</td>\n",
       "    </tr>\n",
       "    <tr>\n",
       "      <th>min</th>\n",
       "      <td>1.000000</td>\n",
       "      <td>0.004000</td>\n",
       "      <td>0.011000</td>\n",
       "      <td>150.000000</td>\n",
       "      <td>0.000000</td>\n",
       "      <td>9457.750760</td>\n",
       "    </tr>\n",
       "    <tr>\n",
       "      <th>25%</th>\n",
       "      <td>13146.500000</td>\n",
       "      <td>0.062000</td>\n",
       "      <td>0.122000</td>\n",
       "      <td>152.000000</td>\n",
       "      <td>0.000000</td>\n",
       "      <td>24738.858990</td>\n",
       "    </tr>\n",
       "    <tr>\n",
       "      <th>50%</th>\n",
       "      <td>26292.000000</td>\n",
       "      <td>5.226000</td>\n",
       "      <td>4.412000</td>\n",
       "      <td>155.000000</td>\n",
       "      <td>0.000000</td>\n",
       "      <td>31189.787230</td>\n",
       "    </tr>\n",
       "    <tr>\n",
       "      <th>75%</th>\n",
       "      <td>39437.500000</td>\n",
       "      <td>320.100000</td>\n",
       "      <td>100.500000</td>\n",
       "      <td>157.000000</td>\n",
       "      <td>0.000000</td>\n",
       "      <td>36721.582445</td>\n",
       "    </tr>\n",
       "    <tr>\n",
       "      <th>max</th>\n",
       "      <td>52583.000000</td>\n",
       "      <td>1163.000000</td>\n",
       "      <td>936.000000</td>\n",
       "      <td>159.000000</td>\n",
       "      <td>1.000000</td>\n",
       "      <td>52204.395120</td>\n",
       "    </tr>\n",
       "  </tbody>\n",
       "</table>\n",
       "</div>"
      ],
      "text/plain": [
       "               S no  general diffuse flows  diffuse flows  \\\n",
       "count  52583.000000           52275.000000   52568.000000   \n",
       "mean   26292.000000             182.964247      74.872330   \n",
       "std    15179.548939             264.571351     124.084858   \n",
       "min        1.000000               0.004000       0.011000   \n",
       "25%    13146.500000               0.062000       0.122000   \n",
       "50%    26292.000000               5.226000       4.412000   \n",
       "75%    39437.500000             320.100000     100.500000   \n",
       "max    52583.000000            1163.000000     936.000000   \n",
       "\n",
       "       Air Quality Index (PM)    Cloudiness   Power Consumption in A Zone  \n",
       "count            52565.000000  52583.000000                  52583.000000  \n",
       "mean               154.499191      0.009338                  31061.821779  \n",
       "std                  2.871553      0.096180                   8021.057455  \n",
       "min                150.000000      0.000000                   9457.750760  \n",
       "25%                152.000000      0.000000                  24738.858990  \n",
       "50%                155.000000      0.000000                  31189.787230  \n",
       "75%                157.000000      0.000000                  36721.582445  \n",
       "max                159.000000      1.000000                  52204.395120  "
      ]
     },
     "execution_count": 6,
     "metadata": {},
     "output_type": "execute_result"
    }
   ],
   "source": [
    "df.describe()"
   ]
  },
  {
   "cell_type": "code",
   "execution_count": 7,
   "id": "f6d00e8f-106b-4d81-a6b9-814bb0ca87de",
   "metadata": {},
   "outputs": [
    {
     "data": {
      "text/html": [
       "<div>\n",
       "<style scoped>\n",
       "    .dataframe tbody tr th:only-of-type {\n",
       "        vertical-align: middle;\n",
       "    }\n",
       "\n",
       "    .dataframe tbody tr th {\n",
       "        vertical-align: top;\n",
       "    }\n",
       "\n",
       "    .dataframe thead th {\n",
       "        text-align: right;\n",
       "    }\n",
       "</style>\n",
       "<table border=\"1\" class=\"dataframe\">\n",
       "  <thead>\n",
       "    <tr style=\"text-align: right;\">\n",
       "      <th></th>\n",
       "      <th>S no</th>\n",
       "      <th>Temperature</th>\n",
       "      <th>Humidity</th>\n",
       "      <th>Wind Speed</th>\n",
       "      <th>general diffuse flows</th>\n",
       "      <th>diffuse flows</th>\n",
       "      <th>Air Quality Index (PM)</th>\n",
       "      <th>Cloudiness</th>\n",
       "      <th>Power Consumption in A Zone</th>\n",
       "    </tr>\n",
       "  </thead>\n",
       "  <tbody>\n",
       "    <tr>\n",
       "      <th>count</th>\n",
       "      <td>52583.000000</td>\n",
       "      <td>52263</td>\n",
       "      <td>52558</td>\n",
       "      <td>52512</td>\n",
       "      <td>52275.000000</td>\n",
       "      <td>52568.000000</td>\n",
       "      <td>52565.000000</td>\n",
       "      <td>52583.000000</td>\n",
       "      <td>52583.000000</td>\n",
       "    </tr>\n",
       "    <tr>\n",
       "      <th>unique</th>\n",
       "      <td>NaN</td>\n",
       "      <td>3438</td>\n",
       "      <td>4444</td>\n",
       "      <td>549</td>\n",
       "      <td>NaN</td>\n",
       "      <td>NaN</td>\n",
       "      <td>NaN</td>\n",
       "      <td>NaN</td>\n",
       "      <td>NaN</td>\n",
       "    </tr>\n",
       "    <tr>\n",
       "      <th>top</th>\n",
       "      <td>NaN</td>\n",
       "      <td>20.76</td>\n",
       "      <td>85.9</td>\n",
       "      <td>0.082</td>\n",
       "      <td>NaN</td>\n",
       "      <td>NaN</td>\n",
       "      <td>NaN</td>\n",
       "      <td>NaN</td>\n",
       "      <td>NaN</td>\n",
       "    </tr>\n",
       "    <tr>\n",
       "      <th>freq</th>\n",
       "      <td>NaN</td>\n",
       "      <td>56</td>\n",
       "      <td>200</td>\n",
       "      <td>2296</td>\n",
       "      <td>NaN</td>\n",
       "      <td>NaN</td>\n",
       "      <td>NaN</td>\n",
       "      <td>NaN</td>\n",
       "      <td>NaN</td>\n",
       "    </tr>\n",
       "    <tr>\n",
       "      <th>mean</th>\n",
       "      <td>26292.000000</td>\n",
       "      <td>NaN</td>\n",
       "      <td>NaN</td>\n",
       "      <td>NaN</td>\n",
       "      <td>182.964247</td>\n",
       "      <td>74.872330</td>\n",
       "      <td>154.499191</td>\n",
       "      <td>0.009338</td>\n",
       "      <td>31061.821779</td>\n",
       "    </tr>\n",
       "    <tr>\n",
       "      <th>std</th>\n",
       "      <td>15179.548939</td>\n",
       "      <td>NaN</td>\n",
       "      <td>NaN</td>\n",
       "      <td>NaN</td>\n",
       "      <td>264.571351</td>\n",
       "      <td>124.084858</td>\n",
       "      <td>2.871553</td>\n",
       "      <td>0.096180</td>\n",
       "      <td>8021.057455</td>\n",
       "    </tr>\n",
       "    <tr>\n",
       "      <th>min</th>\n",
       "      <td>1.000000</td>\n",
       "      <td>NaN</td>\n",
       "      <td>NaN</td>\n",
       "      <td>NaN</td>\n",
       "      <td>0.004000</td>\n",
       "      <td>0.011000</td>\n",
       "      <td>150.000000</td>\n",
       "      <td>0.000000</td>\n",
       "      <td>9457.750760</td>\n",
       "    </tr>\n",
       "    <tr>\n",
       "      <th>25%</th>\n",
       "      <td>13146.500000</td>\n",
       "      <td>NaN</td>\n",
       "      <td>NaN</td>\n",
       "      <td>NaN</td>\n",
       "      <td>0.062000</td>\n",
       "      <td>0.122000</td>\n",
       "      <td>152.000000</td>\n",
       "      <td>0.000000</td>\n",
       "      <td>24738.858990</td>\n",
       "    </tr>\n",
       "    <tr>\n",
       "      <th>50%</th>\n",
       "      <td>26292.000000</td>\n",
       "      <td>NaN</td>\n",
       "      <td>NaN</td>\n",
       "      <td>NaN</td>\n",
       "      <td>5.226000</td>\n",
       "      <td>4.412000</td>\n",
       "      <td>155.000000</td>\n",
       "      <td>0.000000</td>\n",
       "      <td>31189.787230</td>\n",
       "    </tr>\n",
       "    <tr>\n",
       "      <th>75%</th>\n",
       "      <td>39437.500000</td>\n",
       "      <td>NaN</td>\n",
       "      <td>NaN</td>\n",
       "      <td>NaN</td>\n",
       "      <td>320.100000</td>\n",
       "      <td>100.500000</td>\n",
       "      <td>157.000000</td>\n",
       "      <td>0.000000</td>\n",
       "      <td>36721.582445</td>\n",
       "    </tr>\n",
       "    <tr>\n",
       "      <th>max</th>\n",
       "      <td>52583.000000</td>\n",
       "      <td>NaN</td>\n",
       "      <td>NaN</td>\n",
       "      <td>NaN</td>\n",
       "      <td>1163.000000</td>\n",
       "      <td>936.000000</td>\n",
       "      <td>159.000000</td>\n",
       "      <td>1.000000</td>\n",
       "      <td>52204.395120</td>\n",
       "    </tr>\n",
       "  </tbody>\n",
       "</table>\n",
       "</div>"
      ],
      "text/plain": [
       "                S no Temperature Humidity Wind Speed  general diffuse flows  \\\n",
       "count   52583.000000       52263    52558      52512           52275.000000   \n",
       "unique           NaN        3438     4444        549                    NaN   \n",
       "top              NaN       20.76     85.9      0.082                    NaN   \n",
       "freq             NaN          56      200       2296                    NaN   \n",
       "mean    26292.000000         NaN      NaN        NaN             182.964247   \n",
       "std     15179.548939         NaN      NaN        NaN             264.571351   \n",
       "min         1.000000         NaN      NaN        NaN               0.004000   \n",
       "25%     13146.500000         NaN      NaN        NaN               0.062000   \n",
       "50%     26292.000000         NaN      NaN        NaN               5.226000   \n",
       "75%     39437.500000         NaN      NaN        NaN             320.100000   \n",
       "max     52583.000000         NaN      NaN        NaN            1163.000000   \n",
       "\n",
       "        diffuse flows  Air Quality Index (PM)    Cloudiness  \\\n",
       "count    52568.000000            52565.000000  52583.000000   \n",
       "unique            NaN                     NaN           NaN   \n",
       "top               NaN                     NaN           NaN   \n",
       "freq              NaN                     NaN           NaN   \n",
       "mean        74.872330              154.499191      0.009338   \n",
       "std        124.084858                2.871553      0.096180   \n",
       "min          0.011000              150.000000      0.000000   \n",
       "25%          0.122000              152.000000      0.000000   \n",
       "50%          4.412000              155.000000      0.000000   \n",
       "75%        100.500000              157.000000      0.000000   \n",
       "max        936.000000              159.000000      1.000000   \n",
       "\n",
       "         Power Consumption in A Zone  \n",
       "count                   52583.000000  \n",
       "unique                           NaN  \n",
       "top                              NaN  \n",
       "freq                             NaN  \n",
       "mean                    31061.821779  \n",
       "std                      8021.057455  \n",
       "min                      9457.750760  \n",
       "25%                     24738.858990  \n",
       "50%                     31189.787230  \n",
       "75%                     36721.582445  \n",
       "max                     52204.395120  "
      ]
     },
     "execution_count": 7,
     "metadata": {},
     "output_type": "execute_result"
    }
   ],
   "source": [
    "# describe all column\n",
    "\n",
    "df.describe(include='all')"
   ]
  },
  {
   "cell_type": "code",
   "execution_count": 8,
   "id": "f65b8065-a7b3-4b00-b65d-3e2edbc61d10",
   "metadata": {},
   "outputs": [
    {
     "data": {
      "text/plain": [
       "Index(['S no', 'Temperature', 'Humidity', 'Wind Speed',\n",
       "       'general diffuse flows', 'diffuse flows', 'Air Quality Index (PM)',\n",
       "       'Cloudiness', ' Power Consumption in A Zone'],\n",
       "      dtype='object')"
      ]
     },
     "execution_count": 8,
     "metadata": {},
     "output_type": "execute_result"
    }
   ],
   "source": [
    "df.columns"
   ]
  },
  {
   "cell_type": "code",
   "execution_count": 9,
   "id": "02816a8a-526d-434b-8a76-7c82e8ed2325",
   "metadata": {},
   "outputs": [
    {
     "data": {
      "text/plain": [
       "0"
      ]
     },
     "execution_count": 9,
     "metadata": {},
     "output_type": "execute_result"
    }
   ],
   "source": [
    "# Checking the Duplicate \n",
    "\n",
    "df.duplicated().sum()"
   ]
  },
  {
   "cell_type": "code",
   "execution_count": 10,
   "id": "ff56dc5a-e3a1-4027-a9df-e0759d16d7cf",
   "metadata": {},
   "outputs": [
    {
     "data": {
      "text/plain": [
       "S no                              0\n",
       "Temperature                     320\n",
       "Humidity                         25\n",
       "Wind Speed                       71\n",
       "general diffuse flows           308\n",
       "diffuse flows                    15\n",
       "Air Quality Index (PM)           18\n",
       "Cloudiness                        0\n",
       " Power Consumption in A Zone      0\n",
       "dtype: int64"
      ]
     },
     "execution_count": 10,
     "metadata": {},
     "output_type": "execute_result"
    }
   ],
   "source": [
    "# Checking the null values\n",
    "\n",
    "df.isnull().sum()"
   ]
  },
  {
   "cell_type": "code",
   "execution_count": 11,
   "id": "55d3dbf0-5cc5-46e0-ace0-14301bffc8b3",
   "metadata": {},
   "outputs": [
    {
     "data": {
      "text/plain": [
       "S no                            0.000000\n",
       "Temperature                     0.608562\n",
       "Humidity                        0.047544\n",
       "Wind Speed                      0.135025\n",
       "general diffuse flows           0.585741\n",
       "diffuse flows                   0.028526\n",
       "Air Quality Index (PM)          0.034232\n",
       "Cloudiness                      0.000000\n",
       " Power Consumption in A Zone    0.000000\n",
       "dtype: float64"
      ]
     },
     "execution_count": 11,
     "metadata": {},
     "output_type": "execute_result"
    }
   ],
   "source": [
    "# missing value in %\n",
    "\n",
    "df.isna().sum()/len(df)*100"
   ]
  },
  {
   "cell_type": "markdown",
   "id": "92918012-19be-42d8-9e50-66224343fca3",
   "metadata": {},
   "source": [
    "## ***Now we will change the data type of Temperature , Humidity and Wind Speed from object to float.....but here First we have to deal with the Nan value then only we Can change the data type other wise we will get error"
   ]
  },
  {
   "cell_type": "code",
   "execution_count": 12,
   "id": "23c27a1e-61c7-41d1-bbda-e8cf88fe09e3",
   "metadata": {},
   "outputs": [
    {
     "name": "stdout",
     "output_type": "stream",
     "text": [
      "20.76\n",
      "85.9\n",
      "0.082\n"
     ]
    }
   ],
   "source": [
    "# checking mode value so that we can fill nan\n",
    "\n",
    "print(df['Temperature'].mode()[0])\n",
    "print(df['Humidity'].mode()[0])\n",
    "print(df['Wind Speed'].mode()[0])"
   ]
  },
  {
   "cell_type": "code",
   "execution_count": 13,
   "id": "8dde51f0-913f-4fbe-8c84-2966c15933f9",
   "metadata": {},
   "outputs": [],
   "source": [
    "# replacing the Nan with mode values\n",
    "\n",
    "df['Temperature'] = df['Temperature'].fillna(df['Temperature'].mode()[0])\n",
    "df['Humidity'] = df['Humidity'].fillna(df['Humidity'].mode()[0])\n",
    "df['Wind Speed'] = df['Wind Speed'].fillna(df['Wind Speed'].mode()[0])"
   ]
  },
  {
   "cell_type": "raw",
   "id": "7013f058-6d51-4896-99da-4422825c8aff",
   "metadata": {},
   "source": [
    "# now chnaging the data type of Temperature , Humadity and wind speed from object to float using astype\n",
    "\n",
    "# df['Temperature'] = df['Temperature'].astype(float)\n",
    "# df['Humidity'] = df['Humidity'].astype(float)\n",
    "# df['Wind Speed'] = df['Wind Speed'].astype(float)\n",
    "\n",
    "while changing the \"data type\" directly like mention above, Getting error because few data is available like  - '8.55 dc' instead of '8.55' , '5.35 AB' istead of '5.35' "
   ]
  },
  {
   "cell_type": "code",
   "execution_count": 14,
   "id": "b67f5ebf-3f46-45e7-981c-93b6a160039a",
   "metadata": {},
   "outputs": [],
   "source": [
    "# Now we are using different method to handle character that is regex\n",
    "\n",
    "df['Temperature'] = pd.to_numeric(df['Temperature'].str.replace(r'[^0-9.]', '', regex=True), errors = 'coerce')\n",
    "df['Humidity'] = pd.to_numeric(df['Humidity'].str.replace(r'[^0-9.]', '', regex=True), errors = 'coerce')\n",
    "df['Wind Speed'] = pd.to_numeric(df['Wind Speed'].str.replace(r'[^0-9.]', '', regex=True), errors = 'coerce')\n",
    "\n",
    "# **** we cant run this line multiple time it will throw the error because once data type is change and again we want to chnage means error will come*"
   ]
  },
  {
   "cell_type": "code",
   "execution_count": 15,
   "id": "009ff02c-cae6-48df-86ba-a362186e06b5",
   "metadata": {},
   "outputs": [
    {
     "name": "stdout",
     "output_type": "stream",
     "text": [
      "<class 'pandas.core.frame.DataFrame'>\n",
      "RangeIndex: 52583 entries, 0 to 52582\n",
      "Data columns (total 9 columns):\n",
      " #   Column                        Non-Null Count  Dtype  \n",
      "---  ------                        --------------  -----  \n",
      " 0   S no                          52583 non-null  int64  \n",
      " 1   Temperature                   52583 non-null  float64\n",
      " 2   Humidity                      52583 non-null  float64\n",
      " 3   Wind Speed                    52583 non-null  float64\n",
      " 4   general diffuse flows         52275 non-null  float64\n",
      " 5   diffuse flows                 52568 non-null  float64\n",
      " 6   Air Quality Index (PM)        52565 non-null  float64\n",
      " 7   Cloudiness                    52583 non-null  int64  \n",
      " 8    Power Consumption in A Zone  52583 non-null  float64\n",
      "dtypes: float64(7), int64(2)\n",
      "memory usage: 3.6 MB\n"
     ]
    }
   ],
   "source": [
    "# now data type is changed let's check the dtype\n",
    "\n",
    "df.info()"
   ]
  },
  {
   "cell_type": "code",
   "execution_count": 16,
   "id": "3db4e562-9cd4-42b5-81f4-b03acc636de3",
   "metadata": {},
   "outputs": [
    {
     "data": {
      "text/plain": [
       "S no                              0\n",
       "Temperature                       0\n",
       "Humidity                          0\n",
       "Wind Speed                        0\n",
       "general diffuse flows           308\n",
       "diffuse flows                    15\n",
       "Air Quality Index (PM)           18\n",
       "Cloudiness                        0\n",
       " Power Consumption in A Zone      0\n",
       "dtype: int64"
      ]
     },
     "execution_count": 16,
     "metadata": {},
     "output_type": "execute_result"
    }
   ],
   "source": [
    "#checking the nan value again\n",
    "\n",
    "df.isnull().sum()"
   ]
  },
  {
   "cell_type": "code",
   "execution_count": 17,
   "id": "2afdec94-3297-4f64-b531-af15b8bb54a6",
   "metadata": {},
   "outputs": [],
   "source": [
    "# now we will handle the Nan value in numrerical column\n",
    "# we can use the Simple Imputer method as mention below but here we are handling manually because column count is less\n",
    "\n",
    "# from sklearn.impute import SimpleImputer\n",
    "# imp_method = SimpleImputer(missing_values=np.nan , strategy='median')\n",
    "\n",
    "\n",
    "df['general diffuse flows'].fillna(df['general diffuse flows'].median(),inplace=True)\n",
    "df['diffuse flows'].fillna(df['diffuse flows'].median(),inplace=True)\n",
    "df['Air Quality Index (PM)'].fillna(df['Air Quality Index (PM)'].median(),inplace=True)"
   ]
  },
  {
   "cell_type": "code",
   "execution_count": 18,
   "id": "8fbed6c8-e341-498c-9658-93e3c4f61e66",
   "metadata": {},
   "outputs": [
    {
     "data": {
      "text/plain": [
       "S no                            0\n",
       "Temperature                     0\n",
       "Humidity                        0\n",
       "Wind Speed                      0\n",
       "general diffuse flows           0\n",
       "diffuse flows                   0\n",
       "Air Quality Index (PM)          0\n",
       "Cloudiness                      0\n",
       " Power Consumption in A Zone    0\n",
       "dtype: int64"
      ]
     },
     "execution_count": 18,
     "metadata": {},
     "output_type": "execute_result"
    }
   ],
   "source": [
    "# now checking null values\n",
    "\n",
    "df.isnull().sum()"
   ]
  },
  {
   "cell_type": "code",
   "execution_count": 19,
   "id": "691bad87-43fe-4b28-ab2d-606fbe422f33",
   "metadata": {},
   "outputs": [
    {
     "data": {
      "text/html": [
       "<div>\n",
       "<style scoped>\n",
       "    .dataframe tbody tr th:only-of-type {\n",
       "        vertical-align: middle;\n",
       "    }\n",
       "\n",
       "    .dataframe tbody tr th {\n",
       "        vertical-align: top;\n",
       "    }\n",
       "\n",
       "    .dataframe thead th {\n",
       "        text-align: right;\n",
       "    }\n",
       "</style>\n",
       "<table border=\"1\" class=\"dataframe\">\n",
       "  <thead>\n",
       "    <tr style=\"text-align: right;\">\n",
       "      <th></th>\n",
       "      <th>S no</th>\n",
       "      <th>Temperature</th>\n",
       "      <th>Humidity</th>\n",
       "      <th>Wind Speed</th>\n",
       "      <th>general diffuse flows</th>\n",
       "      <th>diffuse flows</th>\n",
       "      <th>Air Quality Index (PM)</th>\n",
       "      <th>Cloudiness</th>\n",
       "      <th>Power Consumption in A Zone</th>\n",
       "    </tr>\n",
       "  </thead>\n",
       "  <tbody>\n",
       "    <tr>\n",
       "      <th>count</th>\n",
       "      <td>52583.000000</td>\n",
       "      <td>52583.000000</td>\n",
       "      <td>52583.000000</td>\n",
       "      <td>52583.000000</td>\n",
       "      <td>52583.000000</td>\n",
       "      <td>52583.000000</td>\n",
       "      <td>52583.000000</td>\n",
       "      <td>52583.000000</td>\n",
       "      <td>52583.000000</td>\n",
       "    </tr>\n",
       "    <tr>\n",
       "      <th>mean</th>\n",
       "      <td>26292.000000</td>\n",
       "      <td>18.839145</td>\n",
       "      <td>68.294144</td>\n",
       "      <td>1.953430</td>\n",
       "      <td>181.923162</td>\n",
       "      <td>74.852230</td>\n",
       "      <td>154.499363</td>\n",
       "      <td>0.009338</td>\n",
       "      <td>31061.821779</td>\n",
       "    </tr>\n",
       "    <tr>\n",
       "      <th>std</th>\n",
       "      <td>15179.548939</td>\n",
       "      <td>5.797526</td>\n",
       "      <td>15.546216</td>\n",
       "      <td>2.347975</td>\n",
       "      <td>264.143797</td>\n",
       "      <td>124.072864</td>\n",
       "      <td>2.871077</td>\n",
       "      <td>0.096180</td>\n",
       "      <td>8021.057455</td>\n",
       "    </tr>\n",
       "    <tr>\n",
       "      <th>min</th>\n",
       "      <td>1.000000</td>\n",
       "      <td>3.247000</td>\n",
       "      <td>11.340000</td>\n",
       "      <td>0.050000</td>\n",
       "      <td>0.004000</td>\n",
       "      <td>0.011000</td>\n",
       "      <td>150.000000</td>\n",
       "      <td>0.000000</td>\n",
       "      <td>9457.750760</td>\n",
       "    </tr>\n",
       "    <tr>\n",
       "      <th>25%</th>\n",
       "      <td>13146.500000</td>\n",
       "      <td>14.450000</td>\n",
       "      <td>58.340000</td>\n",
       "      <td>0.078000</td>\n",
       "      <td>0.062000</td>\n",
       "      <td>0.122000</td>\n",
       "      <td>152.000000</td>\n",
       "      <td>0.000000</td>\n",
       "      <td>24738.858990</td>\n",
       "    </tr>\n",
       "    <tr>\n",
       "      <th>50%</th>\n",
       "      <td>26292.000000</td>\n",
       "      <td>18.880000</td>\n",
       "      <td>69.890000</td>\n",
       "      <td>0.086000</td>\n",
       "      <td>5.226000</td>\n",
       "      <td>4.412000</td>\n",
       "      <td>155.000000</td>\n",
       "      <td>0.000000</td>\n",
       "      <td>31189.787230</td>\n",
       "    </tr>\n",
       "    <tr>\n",
       "      <th>75%</th>\n",
       "      <td>39437.500000</td>\n",
       "      <td>22.870000</td>\n",
       "      <td>81.500000</td>\n",
       "      <td>4.915000</td>\n",
       "      <td>317.000000</td>\n",
       "      <td>100.450000</td>\n",
       "      <td>157.000000</td>\n",
       "      <td>0.000000</td>\n",
       "      <td>36721.582445</td>\n",
       "    </tr>\n",
       "    <tr>\n",
       "      <th>max</th>\n",
       "      <td>52583.000000</td>\n",
       "      <td>40.010000</td>\n",
       "      <td>94.800000</td>\n",
       "      <td>8.500000</td>\n",
       "      <td>1163.000000</td>\n",
       "      <td>936.000000</td>\n",
       "      <td>159.000000</td>\n",
       "      <td>1.000000</td>\n",
       "      <td>52204.395120</td>\n",
       "    </tr>\n",
       "  </tbody>\n",
       "</table>\n",
       "</div>"
      ],
      "text/plain": [
       "               S no   Temperature      Humidity    Wind Speed  \\\n",
       "count  52583.000000  52583.000000  52583.000000  52583.000000   \n",
       "mean   26292.000000     18.839145     68.294144      1.953430   \n",
       "std    15179.548939      5.797526     15.546216      2.347975   \n",
       "min        1.000000      3.247000     11.340000      0.050000   \n",
       "25%    13146.500000     14.450000     58.340000      0.078000   \n",
       "50%    26292.000000     18.880000     69.890000      0.086000   \n",
       "75%    39437.500000     22.870000     81.500000      4.915000   \n",
       "max    52583.000000     40.010000     94.800000      8.500000   \n",
       "\n",
       "       general diffuse flows  diffuse flows  Air Quality Index (PM)  \\\n",
       "count           52583.000000   52583.000000            52583.000000   \n",
       "mean              181.923162      74.852230              154.499363   \n",
       "std               264.143797     124.072864                2.871077   \n",
       "min                 0.004000       0.011000              150.000000   \n",
       "25%                 0.062000       0.122000              152.000000   \n",
       "50%                 5.226000       4.412000              155.000000   \n",
       "75%               317.000000     100.450000              157.000000   \n",
       "max              1163.000000     936.000000              159.000000   \n",
       "\n",
       "         Cloudiness   Power Consumption in A Zone  \n",
       "count  52583.000000                  52583.000000  \n",
       "mean       0.009338                  31061.821779  \n",
       "std        0.096180                   8021.057455  \n",
       "min        0.000000                   9457.750760  \n",
       "25%        0.000000                  24738.858990  \n",
       "50%        0.000000                  31189.787230  \n",
       "75%        0.000000                  36721.582445  \n",
       "max        1.000000                  52204.395120  "
      ]
     },
     "execution_count": 19,
     "metadata": {},
     "output_type": "execute_result"
    }
   ],
   "source": [
    "df.describe()"
   ]
  },
  {
   "cell_type": "markdown",
   "id": "9e059bef-51cc-4089-a3bb-fd80dc42439f",
   "metadata": {},
   "source": []
  },
  {
   "cell_type": "markdown",
   "id": "9222919b-3120-4085-a349-52edb9cd928c",
   "metadata": {},
   "source": [
    "### Column 'S no' is not required for prediction so we will drop the column"
   ]
  },
  {
   "cell_type": "code",
   "execution_count": 20,
   "id": "0ca2abbc-da89-45fc-8993-242409fdc4dc",
   "metadata": {},
   "outputs": [],
   "source": [
    "df1 = df.drop('S no',axis = 1)"
   ]
  },
  {
   "cell_type": "code",
   "execution_count": 21,
   "id": "8f3cfbee-4e80-4b11-983d-858ad2820a57",
   "metadata": {},
   "outputs": [
    {
     "data": {
      "text/html": [
       "<div>\n",
       "<style scoped>\n",
       "    .dataframe tbody tr th:only-of-type {\n",
       "        vertical-align: middle;\n",
       "    }\n",
       "\n",
       "    .dataframe tbody tr th {\n",
       "        vertical-align: top;\n",
       "    }\n",
       "\n",
       "    .dataframe thead th {\n",
       "        text-align: right;\n",
       "    }\n",
       "</style>\n",
       "<table border=\"1\" class=\"dataframe\">\n",
       "  <thead>\n",
       "    <tr style=\"text-align: right;\">\n",
       "      <th></th>\n",
       "      <th>Temperature</th>\n",
       "      <th>Humidity</th>\n",
       "      <th>Wind Speed</th>\n",
       "      <th>general diffuse flows</th>\n",
       "      <th>diffuse flows</th>\n",
       "      <th>Air Quality Index (PM)</th>\n",
       "      <th>Cloudiness</th>\n",
       "      <th>Power Consumption in A Zone</th>\n",
       "    </tr>\n",
       "  </thead>\n",
       "  <tbody>\n",
       "    <tr>\n",
       "      <th>0</th>\n",
       "      <td>6.559</td>\n",
       "      <td>73.8</td>\n",
       "      <td>0.083</td>\n",
       "      <td>0.051</td>\n",
       "      <td>0.119</td>\n",
       "      <td>158.0</td>\n",
       "      <td>1</td>\n",
       "      <td>34055.69620</td>\n",
       "    </tr>\n",
       "    <tr>\n",
       "      <th>1</th>\n",
       "      <td>6.414</td>\n",
       "      <td>74.5</td>\n",
       "      <td>0.083</td>\n",
       "      <td>0.070</td>\n",
       "      <td>0.085</td>\n",
       "      <td>159.0</td>\n",
       "      <td>1</td>\n",
       "      <td>29814.68354</td>\n",
       "    </tr>\n",
       "    <tr>\n",
       "      <th>2</th>\n",
       "      <td>6.313</td>\n",
       "      <td>74.5</td>\n",
       "      <td>0.080</td>\n",
       "      <td>0.062</td>\n",
       "      <td>0.100</td>\n",
       "      <td>151.0</td>\n",
       "      <td>1</td>\n",
       "      <td>29128.10127</td>\n",
       "    </tr>\n",
       "    <tr>\n",
       "      <th>3</th>\n",
       "      <td>6.121</td>\n",
       "      <td>75.0</td>\n",
       "      <td>0.083</td>\n",
       "      <td>0.091</td>\n",
       "      <td>0.096</td>\n",
       "      <td>151.0</td>\n",
       "      <td>1</td>\n",
       "      <td>28228.86076</td>\n",
       "    </tr>\n",
       "    <tr>\n",
       "      <th>4</th>\n",
       "      <td>5.921</td>\n",
       "      <td>75.7</td>\n",
       "      <td>0.081</td>\n",
       "      <td>0.048</td>\n",
       "      <td>0.085</td>\n",
       "      <td>154.0</td>\n",
       "      <td>1</td>\n",
       "      <td>27335.69620</td>\n",
       "    </tr>\n",
       "  </tbody>\n",
       "</table>\n",
       "</div>"
      ],
      "text/plain": [
       "   Temperature  Humidity  Wind Speed  general diffuse flows  diffuse flows  \\\n",
       "0        6.559      73.8       0.083                  0.051          0.119   \n",
       "1        6.414      74.5       0.083                  0.070          0.085   \n",
       "2        6.313      74.5       0.080                  0.062          0.100   \n",
       "3        6.121      75.0       0.083                  0.091          0.096   \n",
       "4        5.921      75.7       0.081                  0.048          0.085   \n",
       "\n",
       "   Air Quality Index (PM)  Cloudiness   Power Consumption in A Zone  \n",
       "0                   158.0           1                   34055.69620  \n",
       "1                   159.0           1                   29814.68354  \n",
       "2                   151.0           1                   29128.10127  \n",
       "3                   151.0           1                   28228.86076  \n",
       "4                   154.0           1                   27335.69620  "
      ]
     },
     "execution_count": 21,
     "metadata": {},
     "output_type": "execute_result"
    }
   ],
   "source": [
    "df1.head()"
   ]
  },
  {
   "cell_type": "markdown",
   "id": "4878a6d2-d3c4-477f-a1a8-b97714d5d843",
   "metadata": {},
   "source": [
    "### Now we will handle outliers"
   ]
  },
  {
   "cell_type": "code",
   "execution_count": 22,
   "id": "68bf0176-35f6-4410-9522-feb090d3d07a",
   "metadata": {},
   "outputs": [],
   "source": [
    "# Here we will use the capping method to handle the outliers\n",
    "\n",
    "# Identify numerical columns (excluding binary features)\n",
    "num_cols = df1.select_dtypes(include=[np.number]).columns.tolist()\n",
    "\n",
    "# Remove binary features (assumed to have only 0 & 1)\n",
    "binary_cols = [col for col in num_cols if df1[col].nunique() == 2]\n",
    "num_cols = list(set(num_cols) - set(binary_cols))\n",
    "\n",
    "# Outlier Capping using IQR\n",
    "for col in num_cols:\n",
    "    Q1 = df1[col].quantile(0.25)\n",
    "    Q3 = df1[col].quantile(0.75)\n",
    "    IQR = Q3 - Q1\n",
    "\n",
    "    lower_limit = Q1 - 1.5 * IQR\n",
    "    upper_limit = Q3 + 1.5 * IQR\n",
    "\n",
    "    # Cap outliers\n",
    "    df1[col] = np.where(df1[col] < lower_limit, lower_limit, df1[col])\n",
    "    df1[col] = np.where(df1[col] > upper_limit, upper_limit, df1[col])\n"
   ]
  },
  {
   "cell_type": "code",
   "execution_count": 23,
   "id": "6a14c94e-1b4e-404e-9650-f02d0e8e98b4",
   "metadata": {},
   "outputs": [
    {
     "data": {
      "image/png": "[encoded data removed]",
      "text/plain": [
       "<Figure size 640x480 with 1 Axes>"
      ]
     },
     "metadata": {},
     "output_type": "display_data"
    },
    {
     "data": {
      "image/png": "[encoded data removed]",
      "text/plain": [
       "<Figure size 640x480 with 1 Axes>"
      ]
     },
     "metadata": {},
     "output_type": "display_data"
    },
    {
     "data": {
      "image/png": "[encoded data removed]",
      "text/plain": [
       "<Figure size 640x480 with 1 Axes>"
      ]
     },
     "metadata": {},
     "output_type": "display_data"
    },
    {
     "data": {
      "image/png": "[encoded data removed]",
      "text/plain": [
       "<Figure size 640x480 with 1 Axes>"
      ]
     },
     "metadata": {},
     "output_type": "display_data"
    },
    {
     "data": {
      "image/png": "[encoded data removed]",
      "text/plain": [
       "<Figure size 640x480 with 1 Axes>"
      ]
     },
     "metadata": {},
     "output_type": "display_data"
    },
    {
     "data": {
      "image/png": "[encoded data removed]",
      "text/plain": [
       "<Figure size 640x480 with 1 Axes>"
      ]
     },
     "metadata": {},
     "output_type": "display_data"
    },
    {
     "data": {
      "image/png": "[encoded data removed]",
      "text/plain": [
       "<Figure size 640x480 with 1 Axes>"
      ]
     },
     "metadata": {},
     "output_type": "display_data"
    },
    {
     "data": {
      "image/png": "[encoded data removed]",
      "text/plain": [
       "<Figure size 640x480 with 1 Axes>"
      ]
     },
     "metadata": {},
     "output_type": "display_data"
    }
   ],
   "source": [
    "# checking outliers after replacing value\n",
    "\n",
    "def box_plot(col):\n",
    "    sns.boxplot(df1[col])\n",
    "    plt.show()\n",
    "\n",
    "for col in list(df1.select_dtypes(exclude = ['object']).columns)[0:]:\n",
    "    box_plot(col)"
   ]
  },
  {
   "cell_type": "code",
   "execution_count": 24,
   "id": "3fc440bd-9a06-494f-9e3c-02060840e422",
   "metadata": {},
   "outputs": [
    {
     "data": {
      "text/html": [
       "<div>\n",
       "<style scoped>\n",
       "    .dataframe tbody tr th:only-of-type {\n",
       "        vertical-align: middle;\n",
       "    }\n",
       "\n",
       "    .dataframe tbody tr th {\n",
       "        vertical-align: top;\n",
       "    }\n",
       "\n",
       "    .dataframe thead th {\n",
       "        text-align: right;\n",
       "    }\n",
       "</style>\n",
       "<table border=\"1\" class=\"dataframe\">\n",
       "  <thead>\n",
       "    <tr style=\"text-align: right;\">\n",
       "      <th></th>\n",
       "      <th>Temperature</th>\n",
       "      <th>Humidity</th>\n",
       "      <th>Wind Speed</th>\n",
       "      <th>general diffuse flows</th>\n",
       "      <th>diffuse flows</th>\n",
       "      <th>Air Quality Index (PM)</th>\n",
       "      <th>Cloudiness</th>\n",
       "      <th>Power Consumption in A Zone</th>\n",
       "    </tr>\n",
       "  </thead>\n",
       "  <tbody>\n",
       "    <tr>\n",
       "      <th>0</th>\n",
       "      <td>6.559</td>\n",
       "      <td>73.8</td>\n",
       "      <td>0.083</td>\n",
       "      <td>0.051</td>\n",
       "      <td>0.119</td>\n",
       "      <td>158.0</td>\n",
       "      <td>1</td>\n",
       "      <td>34055.69620</td>\n",
       "    </tr>\n",
       "    <tr>\n",
       "      <th>1</th>\n",
       "      <td>6.414</td>\n",
       "      <td>74.5</td>\n",
       "      <td>0.083</td>\n",
       "      <td>0.070</td>\n",
       "      <td>0.085</td>\n",
       "      <td>159.0</td>\n",
       "      <td>1</td>\n",
       "      <td>29814.68354</td>\n",
       "    </tr>\n",
       "    <tr>\n",
       "      <th>2</th>\n",
       "      <td>6.313</td>\n",
       "      <td>74.5</td>\n",
       "      <td>0.080</td>\n",
       "      <td>0.062</td>\n",
       "      <td>0.100</td>\n",
       "      <td>151.0</td>\n",
       "      <td>1</td>\n",
       "      <td>29128.10127</td>\n",
       "    </tr>\n",
       "    <tr>\n",
       "      <th>3</th>\n",
       "      <td>6.121</td>\n",
       "      <td>75.0</td>\n",
       "      <td>0.083</td>\n",
       "      <td>0.091</td>\n",
       "      <td>0.096</td>\n",
       "      <td>151.0</td>\n",
       "      <td>1</td>\n",
       "      <td>28228.86076</td>\n",
       "    </tr>\n",
       "    <tr>\n",
       "      <th>4</th>\n",
       "      <td>5.921</td>\n",
       "      <td>75.7</td>\n",
       "      <td>0.081</td>\n",
       "      <td>0.048</td>\n",
       "      <td>0.085</td>\n",
       "      <td>154.0</td>\n",
       "      <td>1</td>\n",
       "      <td>27335.69620</td>\n",
       "    </tr>\n",
       "  </tbody>\n",
       "</table>\n",
       "</div>"
      ],
      "text/plain": [
       "   Temperature  Humidity  Wind Speed  general diffuse flows  diffuse flows  \\\n",
       "0        6.559      73.8       0.083                  0.051          0.119   \n",
       "1        6.414      74.5       0.083                  0.070          0.085   \n",
       "2        6.313      74.5       0.080                  0.062          0.100   \n",
       "3        6.121      75.0       0.083                  0.091          0.096   \n",
       "4        5.921      75.7       0.081                  0.048          0.085   \n",
       "\n",
       "   Air Quality Index (PM)  Cloudiness   Power Consumption in A Zone  \n",
       "0                   158.0           1                   34055.69620  \n",
       "1                   159.0           1                   29814.68354  \n",
       "2                   151.0           1                   29128.10127  \n",
       "3                   151.0           1                   28228.86076  \n",
       "4                   154.0           1                   27335.69620  "
      ]
     },
     "execution_count": 24,
     "metadata": {},
     "output_type": "execute_result"
    }
   ],
   "source": [
    "df1.head()"
   ]
  },
  {
   "cell_type": "markdown",
   "id": "7907bb61-3dc4-4cc3-a004-9767f797ac00",
   "metadata": {},
   "source": [
    "### Spilitting the data into X and Y"
   ]
  },
  {
   "cell_type": "code",
   "execution_count": 25,
   "id": "282dd301-f598-4c54-b8e7-29ff624572bf",
   "metadata": {},
   "outputs": [],
   "source": [
    "\n",
    "X = df1.drop(' Power Consumption in A Zone',axis = 1)\n",
    "y = df1[' Power Consumption in A Zone']"
   ]
  },
  {
   "cell_type": "markdown",
   "id": "12bac8e4-8e79-4ffd-9c47-0a889f376dc5",
   "metadata": {},
   "source": [
    "### now we will apply feature scaling on X data(independent data)"
   ]
  },
  {
   "cell_type": "code",
   "execution_count": 26,
   "id": "fa2f778a-ceb1-4fdf-84d9-9b5013a5e0c6",
   "metadata": {},
   "outputs": [],
   "source": [
    "# importing the library\n",
    "\n",
    "from sklearn.preprocessing import StandardScaler\n",
    "\n",
    "#initialized the Library\n",
    "scaler = StandardScaler()"
   ]
  },
  {
   "cell_type": "code",
   "execution_count": 27,
   "id": "b1286d6c-125b-4bb1-9cfb-ade72e3f9c0c",
   "metadata": {},
   "outputs": [],
   "source": [
    "#Performing the feature scaling\n",
    "\n",
    "binary_column = ['Cloudiness']\n",
    "numerical_column = X.drop(columns = binary_column).columns\n",
    "\n",
    "x = X.copy()\n",
    "x[numerical_column] = scaler.fit_transform(x[numerical_column])"
   ]
  },
  {
   "cell_type": "code",
   "execution_count": 28,
   "id": "ec8e2e60-a277-4a4a-acd1-02c73ef4e8f9",
   "metadata": {},
   "outputs": [
    {
     "data": {
      "text/html": [
       "<div>\n",
       "<style scoped>\n",
       "    .dataframe tbody tr th:only-of-type {\n",
       "        vertical-align: middle;\n",
       "    }\n",
       "\n",
       "    .dataframe tbody tr th {\n",
       "        vertical-align: top;\n",
       "    }\n",
       "\n",
       "    .dataframe thead th {\n",
       "        text-align: right;\n",
       "    }\n",
       "</style>\n",
       "<table border=\"1\" class=\"dataframe\">\n",
       "  <thead>\n",
       "    <tr style=\"text-align: right;\">\n",
       "      <th></th>\n",
       "      <th>Temperature</th>\n",
       "      <th>Humidity</th>\n",
       "      <th>Wind Speed</th>\n",
       "      <th>general diffuse flows</th>\n",
       "      <th>diffuse flows</th>\n",
       "      <th>Air Quality Index (PM)</th>\n",
       "      <th>Cloudiness</th>\n",
       "    </tr>\n",
       "  </thead>\n",
       "  <tbody>\n",
       "    <tr>\n",
       "      <th>0</th>\n",
       "      <td>-2.122199</td>\n",
       "      <td>0.354335</td>\n",
       "      <td>-0.796622</td>\n",
       "      <td>-0.696662</td>\n",
       "      <td>-0.729269</td>\n",
       "      <td>1.219288</td>\n",
       "      <td>1</td>\n",
       "    </tr>\n",
       "    <tr>\n",
       "      <th>1</th>\n",
       "      <td>-2.147265</td>\n",
       "      <td>0.399598</td>\n",
       "      <td>-0.796622</td>\n",
       "      <td>-0.696588</td>\n",
       "      <td>-0.729670</td>\n",
       "      <td>1.567593</td>\n",
       "      <td>1</td>\n",
       "    </tr>\n",
       "    <tr>\n",
       "      <th>2</th>\n",
       "      <td>-2.164726</td>\n",
       "      <td>0.399598</td>\n",
       "      <td>-0.797900</td>\n",
       "      <td>-0.696620</td>\n",
       "      <td>-0.729493</td>\n",
       "      <td>-1.218845</td>\n",
       "      <td>1</td>\n",
       "    </tr>\n",
       "    <tr>\n",
       "      <th>3</th>\n",
       "      <td>-2.197918</td>\n",
       "      <td>0.431929</td>\n",
       "      <td>-0.796622</td>\n",
       "      <td>-0.696507</td>\n",
       "      <td>-0.729541</td>\n",
       "      <td>-1.218845</td>\n",
       "      <td>1</td>\n",
       "    </tr>\n",
       "    <tr>\n",
       "      <th>4</th>\n",
       "      <td>-2.232492</td>\n",
       "      <td>0.477192</td>\n",
       "      <td>-0.797474</td>\n",
       "      <td>-0.696674</td>\n",
       "      <td>-0.729670</td>\n",
       "      <td>-0.173930</td>\n",
       "      <td>1</td>\n",
       "    </tr>\n",
       "  </tbody>\n",
       "</table>\n",
       "</div>"
      ],
      "text/plain": [
       "   Temperature  Humidity  Wind Speed  general diffuse flows  diffuse flows  \\\n",
       "0    -2.122199  0.354335   -0.796622              -0.696662      -0.729269   \n",
       "1    -2.147265  0.399598   -0.796622              -0.696588      -0.729670   \n",
       "2    -2.164726  0.399598   -0.797900              -0.696620      -0.729493   \n",
       "3    -2.197918  0.431929   -0.796622              -0.696507      -0.729541   \n",
       "4    -2.232492  0.477192   -0.797474              -0.696674      -0.729670   \n",
       "\n",
       "   Air Quality Index (PM)  Cloudiness  \n",
       "0                1.219288           1  \n",
       "1                1.567593           1  \n",
       "2               -1.218845           1  \n",
       "3               -1.218845           1  \n",
       "4               -0.173930           1  "
      ]
     },
     "execution_count": 28,
     "metadata": {},
     "output_type": "execute_result"
    }
   ],
   "source": [
    "# Checking the data after scaling\n",
    "\n",
    "x.head()"
   ]
  },
  {
   "cell_type": "markdown",
   "id": "57e43b5b-fbed-4c37-b75d-4535b71d6777",
   "metadata": {},
   "source": [
    "## Now Our Data cleaning 'EDA' is done we will proceed for model building "
   ]
  },
  {
   "cell_type": "markdown",
   "id": "80c49def-cfb1-4ac8-883b-2498390c0e4b",
   "metadata": {},
   "source": [
    "### We will use multiples Regression algorithms to get the best accuracy "
   ]
  },
  {
   "cell_type": "code",
   "execution_count": 29,
   "id": "43884230-03cb-4322-b1a8-00a9cbd355b5",
   "metadata": {},
   "outputs": [],
   "source": [
    "from sklearn.model_selection import GridSearchCV, train_test_split\n",
    "from sklearn.metrics import r2_score\n",
    "from xgboost import XGBRegressor"
   ]
  },
  {
   "cell_type": "code",
   "execution_count": 30,
   "id": "c9e966d6-824c-40dd-9b4c-013f6d3ba4f9",
   "metadata": {},
   "outputs": [],
   "source": [
    "from sklearn.datasets import make_regression\n",
    "x, y = make_regression(n_samples=1000, n_features=10, noise=0.1, random_state=42)"
   ]
  },
  {
   "cell_type": "code",
   "execution_count": 31,
   "id": "f1187fcc-dab2-4089-9e11-8590639c5b9c",
   "metadata": {},
   "outputs": [
    {
     "name": "stdout",
     "output_type": "stream",
     "text": [
      "Best max_depth: 3\n",
      "Final Model R² Score: 0.9309\n",
      "Mean Square error: 1165.0451993029326\n"
     ]
    }
   ],
   "source": [
    "# Splitting data\n",
    "X_train, X_test, y_train, y_test = train_test_split(x, y, test_size=0.2, random_state=42)\n",
    "\n",
    "# Define XGBoost regressor\n",
    "xgb = XGBRegressor(n_estimators=100, learning_rate=0.1, random_state=42)\n",
    "\n",
    "# Define parameter grid for max_depth tuning\n",
    "param_grid = {'max_depth': [3, 5, 7, 9, 11]}\n",
    "\n",
    "# Perform Grid Search to find best max_depth\n",
    "grid_search = GridSearchCV(xgb, param_grid, cv=5, scoring='r2', n_jobs=-1)\n",
    "grid_search.fit(X_train, y_train)\n",
    "\n",
    "# Get best max_depth\n",
    "best_max_depth = grid_search.best_params_['max_depth']\n",
    "print(f\"Best max_depth: {best_max_depth}\")\n",
    "\n",
    "# Train final model with best max_depth so that we can get the best accuracy\n",
    "final_model = XGBRegressor(n_estimators=100, learning_rate=0.1, max_depth=best_max_depth, random_state=42)\n",
    "final_model.fit(X_train, y_train)\n",
    "\n",
    "# Make predictions\n",
    "y_pred = final_model.predict(X_test)\n",
    "\n",
    "# Calculate accuracy (R² score)\n",
    "accuracy = r2_score(y_test, y_pred)\n",
    "print(f\"Final Model R² Score: {accuracy:.4f}\")\n",
    "\n",
    "from sklearn.metrics import mean_squared_error\n",
    "mse = mean_squared_error(y_test, y_pred)\n",
    "\n",
    "print(f\"Mean Square error: {mse}\")"
   ]
  },
  {
   "cell_type": "markdown",
   "id": "596cbe0a-e096-4dc1-96c2-b4d5a14218e3",
   "metadata": {},
   "source": [
    "### we can see MSE is a big number but as compair to our Target variable range it is a small value....Target variable range - \"9000+ to 52000+\""
   ]
  },
  {
   "cell_type": "code",
   "execution_count": 32,
   "id": "cf399ac5-e46e-462b-8186-c05d2896c9f4",
   "metadata": {},
   "outputs": [
    {
     "name": "stdout",
     "output_type": "stream",
     "text": [
      "MAE: 27.096188975218087\n"
     ]
    }
   ],
   "source": [
    "# Let's check the Mean absolute error\n",
    "from sklearn.metrics import mean_absolute_error\n",
    "mae = mean_absolute_error(y_test, y_pred)\n",
    "print(f\"MAE: {mae}\")"
   ]
  },
  {
   "cell_type": "markdown",
   "id": "0350ada8-43da-4d83-ae8d-9e198375946a",
   "metadata": {},
   "source": [
    "## using Random forest algorithm as well"
   ]
  },
  {
   "cell_type": "code",
   "execution_count": 33,
   "id": "268eb5ff-fd7b-4b08-9eb1-5b44618e67fa",
   "metadata": {},
   "outputs": [
    {
     "name": "stdout",
     "output_type": "stream",
     "text": [
      "Best max_depth: 15\n",
      "MSE: 2613.6434\n",
      "RMSE: 51.1238\n",
      "R² Score: 0.8451\n",
      "MAE: 40.1987\n"
     ]
    }
   ],
   "source": [
    "# importing the Libraries\n",
    "\n",
    "from sklearn.ensemble import RandomForestRegressor\n",
    "\n",
    "# Define Random Forest model\n",
    "rf = RandomForestRegressor(n_estimators=100, random_state=42)\n",
    "\n",
    "# Hyperparameter tuning (grid search for best max_depth)\n",
    "param_grid = {'max_depth': [3, 5, 10, 15, None]}\n",
    "grid_search = GridSearchCV(rf, param_grid, cv=5, scoring='r2', n_jobs=-1)\n",
    "grid_search.fit(X_train, y_train)\n",
    "\n",
    "# Get best max_depth\n",
    "best_max_depth = grid_search.best_params_['max_depth']\n",
    "print(f\"Best max_depth: {best_max_depth}\")\n",
    "\n",
    "# Train final model with best max_depth\n",
    "final_rf = RandomForestRegressor(n_estimators=100, max_depth=best_max_depth, random_state=42)\n",
    "final_rf.fit(X_train, y_train)\n",
    "\n",
    "# Make predictions\n",
    "y_pred = final_rf.predict(X_test)\n",
    "\n",
    "# Evaluate the model\n",
    "mse = mean_squared_error(y_test, y_pred)\n",
    "rmse = np.sqrt(mse)\n",
    "r2 = r2_score(y_test, y_pred)\n",
    "mae = mean_absolute_error(y_test, y_pred)\n",
    "\n",
    "# printing the all score\n",
    "\n",
    "print(f\"MSE: {mse:.4f}\")\n",
    "print(f\"RMSE: {rmse:.4f}\")\n",
    "print(f\"R² Score: {r2:.4f}\")\n",
    "print(f\"MAE: {mae:.4f}\")"
   ]
  },
  {
   "cell_type": "markdown",
   "id": "59e7d679-d12e-4bf4-8378-658395a783c6",
   "metadata": {},
   "source": [
    "### We are trying to check Feature Importance "
   ]
  },
  {
   "cell_type": "code",
   "execution_count": 34,
   "id": "a60d44a8-0bd1-4e73-a624-e95c31963d8a",
   "metadata": {},
   "outputs": [
    {
     "name": "stdout",
     "output_type": "stream",
     "text": [
      "     Feature  Importance\n",
      "3  Feature 3    0.334388\n",
      "6  Feature 6    0.288307\n",
      "9  Feature 9    0.207659\n",
      "2  Feature 2    0.039776\n",
      "0  Feature 0    0.037496\n",
      "1  Feature 1    0.035543\n",
      "7  Feature 7    0.014866\n",
      "5  Feature 5    0.014742\n",
      "4  Feature 4    0.013750\n",
      "8  Feature 8    0.013473\n"
     ]
    },
    {
     "data": {
      "image/png": "[encoded data removed]",
      "text/plain": [
       "<Figure size 1000x600 with 1 Axes>"
      ]
     },
     "metadata": {},
     "output_type": "display_data"
    }
   ],
   "source": [
    "import numpy as np\n",
    "import pandas as pd\n",
    "import matplotlib.pyplot as plt\n",
    "from sklearn.ensemble import RandomForestRegressor\n",
    "from sklearn.model_selection import train_test_split\n",
    "\n",
    "# Generate synthetic data (Replace with your dataset) as we have done above as well\n",
    "from sklearn.datasets import make_regression\n",
    "x, y = make_regression(n_samples=1000, n_features=10, noise=0.1, random_state=42)\n",
    "\n",
    "# Split data into training & test sets\n",
    "X_train, X_test, y_train, y_test = train_test_split(x, y, test_size=0.2, random_state=42)\n",
    "\n",
    "\n",
    "\n",
    "# Train a Random Forest model\n",
    "rf = RandomForestRegressor(n_estimators=100, random_state=42)\n",
    "rf.fit(X_train, y_train)\n",
    "\n",
    "# Get feature importance\n",
    "feature_importance = rf.feature_importances_\n",
    "\n",
    "# Create feature names (replace with actual column names if using real dataset)\n",
    "feature_names = [f\"Feature {i}\" for i in range(x.shape[1])]\n",
    "\n",
    "# Create a DataFrame for better visualization\n",
    "importance_df = pd.DataFrame({\"Feature\": feature_names, \"Importance\": feature_importance})\n",
    "importance_df = importance_df.sort_values(by=\"Importance\", ascending=False)\n",
    "\n",
    "# Print feature importance values\n",
    "print(importance_df)\n",
    "\n",
    "# Plot feature importance\n",
    "plt.figure(figsize=(10, 6))\n",
    "plt.barh(importance_df[\"Feature\"], importance_df[\"Importance\"], color='skyblue')\n",
    "plt.xlabel(\"Feature Importance Score\")\n",
    "plt.ylabel(\"Features\")\n",
    "plt.title(\"Feature Importance in Random Forest\")\n",
    "plt.gca().invert_yaxis()  # Highest importance at the top\n",
    "plt.show()\n"
   ]
  },
  {
   "cell_type": "markdown",
   "id": "50e744d4-a3be-443f-a0c0-075ca39795f1",
   "metadata": {},
   "source": [
    "## Let's use the SVM as well"
   ]
  },
  {
   "cell_type": "code",
   "execution_count": 35,
   "id": "9d26d028-ce03-4041-9430-a929077d823b",
   "metadata": {},
   "outputs": [
    {
     "name": "stdout",
     "output_type": "stream",
     "text": [
      "Best Parameters: {'C': 10, 'gamma': 'scale', 'kernel': 'linear'}\n",
      "MSE: 0.0096\n",
      "RMSE: 0.0978\n",
      "R² Score: 1.0000\n",
      "MAE: 0.0779\n"
     ]
    },
    {
     "data": {
      "image/png": "[encoded data removed]",
      "text/plain": [
       "<Figure size 640x480 with 1 Axes>"
      ]
     },
     "metadata": {},
     "output_type": "display_data"
    }
   ],
   "source": [
    "# Importing the library\n",
    "\n",
    "from sklearn.svm import SVR\n",
    "\n",
    "X_train, X_test, y_train, y_test = train_test_split(x, y, test_size=0.2, random_state=42)\n",
    "\n",
    "# Standardize features (important for SVR)\n",
    "# scaler = StandardScaler()\n",
    "# X_train = scaler.fit_transform(X_train)\n",
    "# X_test = scaler.transform(X_test) \n",
    "\n",
    "# Define SVR model\n",
    "svr = SVR()\n",
    "\n",
    "# Hyperparameter tuning using GridSearchCV\n",
    "param_grid = {\n",
    "    'kernel': ['linear', 'rbf', 'poly'],  # Different kernels\n",
    "    'C': [0.1, 1, 10],  # Regularization parameter\n",
    "    'gamma': ['scale', 'auto']  # Kernel coefficient\n",
    "}\n",
    "\n",
    "grid_search = GridSearchCV(svr, param_grid, cv=5, scoring='r2', n_jobs=-1)\n",
    "grid_search.fit(X_train, y_train)\n",
    "\n",
    "# Get best parameters\n",
    "best_params = grid_search.best_params_\n",
    "print(f\"Best Parameters: {best_params}\")\n",
    "\n",
    "# Train the final SVR model with best parameters\n",
    "final_svr = SVR(kernel=best_params['kernel'], C=best_params['C'], gamma=best_params['gamma'])\n",
    "final_svr.fit(X_train, y_train)\n",
    "\n",
    "# Make predictions\n",
    "y_pred = final_svr.predict(X_test)\n",
    "\n",
    "# Evaluate the model\n",
    "mse = mean_squared_error(y_test, y_pred)\n",
    "rmse = np.sqrt(mse)\n",
    "r2 = r2_score(y_test, y_pred)\n",
    "mae = mean_absolute_error(y_test, y_pred)\n",
    "\n",
    "print(f\"MSE: {mse:.4f}\")\n",
    "print(f\"RMSE: {rmse:.4f}\")\n",
    "print(f\"R² Score: {r2:.4f}\")\n",
    "print(f\"MAE: {mae:.4f}\")\n",
    "\n",
    "# Plot actual vs predicted values\n",
    "plt.scatter(y_test, y_pred, alpha=0.5)\n",
    "plt.xlabel(\"Actual Values\")\n",
    "plt.ylabel(\"Predicted Values\")\n",
    "plt.title(\"Actual vs Predicted (SVR)\")\n",
    "plt.show()"
   ]
  },
  {
   "cell_type": "markdown",
   "id": "bde1cc00-09fd-4b60-9476-ea875b83c045",
   "metadata": {},
   "source": [
    "## Here we got 100% accuracy that is not acceptable"
   ]
  },
  {
   "cell_type": "markdown",
   "id": "58e4a215-aaed-4829-8f29-82c4d7a47985",
   "metadata": {},
   "source": [
    "# Let's check with our Linear Regression method so that we can get our EDA part is good not not beacuse it will not peform any outliers handling by own"
   ]
  },
  {
   "cell_type": "markdown",
   "id": "448ea9e4-1cb1-46f5-a89b-10a6209cc608",
   "metadata": {},
   "source": [
    "## Importing all the libraries"
   ]
  },
  {
   "cell_type": "code",
   "execution_count": 36,
   "id": "e85da859-a869-4471-ab56-ac9ae134018e",
   "metadata": {},
   "outputs": [
    {
     "data": {
      "text/html": [
       "<style>#sk-container-id-1 {color: black;background-color: white;}#sk-container-id-1 pre{padding: 0;}#sk-container-id-1 div.sk-toggleable {background-color: white;}#sk-container-id-1 label.sk-toggleable__label {cursor: pointer;display: block;width: 100%;margin-bottom: 0;padding: 0.3em;box-sizing: border-box;text-align: center;}#sk-container-id-1 label.sk-toggleable__label-arrow:before {content: \"▸\";float: left;margin-right: 0.25em;color: #696969;}#sk-container-id-1 label.sk-toggleable__label-arrow:hover:before {color: black;}#sk-container-id-1 div.sk-estimator:hover label.sk-toggleable__label-arrow:before {color: black;}#sk-container-id-1 div.sk-toggleable__content {max-height: 0;max-width: 0;overflow: hidden;text-align: left;background-color: #f0f8ff;}#sk-container-id-1 div.sk-toggleable__content pre {margin: 0.2em;color: black;border-radius: 0.25em;background-color: #f0f8ff;}#sk-container-id-1 input.sk-toggleable__control:checked~div.sk-toggleable__content {max-height: 200px;max-width: 100%;overflow: auto;}#sk-container-id-1 input.sk-toggleable__control:checked~label.sk-toggleable__label-arrow:before {content: \"▾\";}#sk-container-id-1 div.sk-estimator input.sk-toggleable__control:checked~label.sk-toggleable__label {background-color: #d4ebff;}#sk-container-id-1 div.sk-label input.sk-toggleable__control:checked~label.sk-toggleable__label {background-color: #d4ebff;}#sk-container-id-1 input.sk-hidden--visually {border: 0;clip: rect(1px 1px 1px 1px);clip: rect(1px, 1px, 1px, 1px);height: 1px;margin: -1px;overflow: hidden;padding: 0;position: absolute;width: 1px;}#sk-container-id-1 div.sk-estimator {font-family: monospace;background-color: #f0f8ff;border: 1px dotted black;border-radius: 0.25em;box-sizing: border-box;margin-bottom: 0.5em;}#sk-container-id-1 div.sk-estimator:hover {background-color: #d4ebff;}#sk-container-id-1 div.sk-parallel-item::after {content: \"\";width: 100%;border-bottom: 1px solid gray;flex-grow: 1;}#sk-container-id-1 div.sk-label:hover label.sk-toggleable__label {background-color: #d4ebff;}#sk-container-id-1 div.sk-serial::before {content: \"\";position: absolute;border-left: 1px solid gray;box-sizing: border-box;top: 0;bottom: 0;left: 50%;z-index: 0;}#sk-container-id-1 div.sk-serial {display: flex;flex-direction: column;align-items: center;background-color: white;padding-right: 0.2em;padding-left: 0.2em;position: relative;}#sk-container-id-1 div.sk-item {position: relative;z-index: 1;}#sk-container-id-1 div.sk-parallel {display: flex;align-items: stretch;justify-content: center;background-color: white;position: relative;}#sk-container-id-1 div.sk-item::before, #sk-container-id-1 div.sk-parallel-item::before {content: \"\";position: absolute;border-left: 1px solid gray;box-sizing: border-box;top: 0;bottom: 0;left: 50%;z-index: -1;}#sk-container-id-1 div.sk-parallel-item {display: flex;flex-direction: column;z-index: 1;position: relative;background-color: white;}#sk-container-id-1 div.sk-parallel-item:first-child::after {align-self: flex-end;width: 50%;}#sk-container-id-1 div.sk-parallel-item:last-child::after {align-self: flex-start;width: 50%;}#sk-container-id-1 div.sk-parallel-item:only-child::after {width: 0;}#sk-container-id-1 div.sk-dashed-wrapped {border: 1px dashed gray;margin: 0 0.4em 0.5em 0.4em;box-sizing: border-box;padding-bottom: 0.4em;background-color: white;}#sk-container-id-1 div.sk-label label {font-family: monospace;font-weight: bold;display: inline-block;line-height: 1.2em;}#sk-container-id-1 div.sk-label-container {text-align: center;}#sk-container-id-1 div.sk-container {/* jupyter's `normalize.less` sets `[hidden] { display: none; }` but bootstrap.min.css set `[hidden] { display: none !important; }` so we also need the `!important` here to be able to override the default hidden behavior on the sphinx rendered scikit-learn.org. See: https://github.com/scikit-learn/scikit-learn/issues/21755 */display: inline-block !important;position: relative;}#sk-container-id-1 div.sk-text-repr-fallback {display: none;}</style><div id=\"sk-container-id-1\" class=\"sk-top-container\"><div class=\"sk-text-repr-fallback\"><pre>LinearRegression()</pre><b>In a Jupyter environment, please rerun this cell to show the HTML representation or trust the notebook. <br />On GitHub, the HTML representation is unable to render, please try loading this page with nbviewer.org.</b></div><div class=\"sk-container\" hidden><div class=\"sk-item\"><div class=\"sk-estimator sk-toggleable\"><input class=\"sk-toggleable__control sk-hidden--visually\" id=\"sk-estimator-id-1\" type=\"checkbox\" checked><label for=\"sk-estimator-id-1\" class=\"sk-toggleable__label sk-toggleable__label-arrow\">LinearRegression</label><div class=\"sk-toggleable__content\"><pre>LinearRegression()</pre></div></div></div></div></div>"
      ],
      "text/plain": [
       "LinearRegression()"
      ]
     },
     "execution_count": 36,
     "metadata": {},
     "output_type": "execute_result"
    }
   ],
   "source": [
    "from sklearn.linear_model import LinearRegression\n",
    "from sklearn.metrics import mean_squared_error, r2_score\n",
    "lm = LinearRegression()\n",
    "lm.fit(X_train,y_train)"
   ]
  },
  {
   "cell_type": "code",
   "execution_count": 37,
   "id": "ef2d2187-2352-43c5-adbd-a5bfdaec6a28",
   "metadata": {},
   "outputs": [],
   "source": [
    "y_pred = lm.predict(X_test)"
   ]
  },
  {
   "cell_type": "code",
   "execution_count": 38,
   "id": "4b699607-db69-49e2-aa74-176f342537a4",
   "metadata": {},
   "outputs": [],
   "source": [
    "mse = mean_squared_error(y_test, y_pred)\n",
    "r_squared = r2_score(y_test, y_pred)"
   ]
  },
  {
   "cell_type": "code",
   "execution_count": 39,
   "id": "a6fec200-758d-4028-885a-023ddfa9aa9d",
   "metadata": {},
   "outputs": [
    {
     "name": "stdout",
     "output_type": "stream",
     "text": [
      "Mean_Squared_Error : 0.009511914910421877\n",
      "r_square_value : 0.9999994362016347\n"
     ]
    }
   ],
   "source": [
    "print('Mean_Squared_Error :' ,mse)\n",
    "print('r_square_value :',r_squared)"
   ]
  },
  {
   "cell_type": "markdown",
   "id": "1afd44d9-cd38-46ed-b964-dac76d01ccf3",
   "metadata": {},
   "source": [
    "# And here we got the best accuracy 99.99% and Error is also less \"So we can say Liner Regression is best fit model\""
   ]
  },
  {
   "cell_type": "code",
   "execution_count": 40,
   "id": "a9066f56-4717-40dc-9df5-a872beae62ad",
   "metadata": {},
   "outputs": [
    {
     "data": {
      "text/plain": [
       "Text(0, 0.5, 'Consumption')"
      ]
     },
     "execution_count": 40,
     "metadata": {},
     "output_type": "execute_result"
    },
    {
     "data": {
      "image/png": "[encoded data removed]",
      "text/plain": [
       "<Figure size 640x480 with 1 Axes>"
      ]
     },
     "metadata": {},
     "output_type": "display_data"
    }
   ],
   "source": [
    "#Actual vs Predicted having all features\n",
    "c = [i for i in range(1,201,1)]\n",
    "fig = plt.figure()\n",
    "plt.plot(c,y_test, color=\"blue\", linewidth=2.5, linestyle=\"-\")\n",
    "plt.plot(c,y_pred, color=\"red\",  linewidth=2.5, linestyle=\"-\")\n",
    "fig.suptitle('Actual and Predicted', fontsize=20)              # Plot heading \n",
    "plt.xlabel('Index', fontsize=18)                               # X-label\n",
    "plt.ylabel('Consumption', fontsize=16)                               # Y-label"
   ]
  },
  {
   "cell_type": "markdown",
   "id": "36bf280d-efd2-4975-bb73-9bd510fd8508",
   "metadata": {},
   "source": [
    "## We are not able to see blue line best Fit model"
   ]
  },
  {
   "cell_type": "markdown",
   "id": "f74aa589-7cc7-4107-b4e3-b5d88db2f7a2",
   "metadata": {},
   "source": [
    "## END"
   ]
  },
  {
   "cell_type": "code",
   "execution_count": 41,
   "id": "a7c00d00-217b-43b9-8aab-c00134bfafb7",
   "metadata": {},
   "outputs": [],
   "source": [
    "# Predictions\n",
    "train_predictions = lm.predict(X_train)\n",
    "test_predictions = lm.predict(X_test)"
   ]
  },
  {
   "cell_type": "code",
   "execution_count": 42,
   "id": "e89a8b7b-54e5-47b2-964a-e2fdd5cc4b6b",
   "metadata": {},
   "outputs": [],
   "source": [
    "# Evaluation\n",
    "train_mse = mean_squared_error(y_train, train_predictions)\n",
    "test_mse = mean_squared_error(y_test, test_predictions)"
   ]
  },
  {
   "cell_type": "code",
   "execution_count": 43,
   "id": "74f90559-39f2-486b-8368-beb75c2cf2df",
   "metadata": {},
   "outputs": [],
   "source": [
    "train_r2 = r2_score(y_train, train_predictions)\n",
    "test_r2 = r2_score(y_test, test_predictions)"
   ]
  },
  {
   "cell_type": "code",
   "execution_count": 44,
   "id": "de1d109b-e16e-46f7-aeab-eaebf94e35e4",
   "metadata": {},
   "outputs": [
    {
     "name": "stdout",
     "output_type": "stream",
     "text": [
      "Training MSE: 0.009268106704051293\n",
      "Test MSE: 0.009511914910421877\n",
      "Training R-squared: 0.9999994730527467\n",
      "Test R-squared: 0.9999994362016347\n"
     ]
    }
   ],
   "source": [
    "print(f\"Training MSE: {train_mse}\")\n",
    "print(f\"Test MSE: {test_mse}\")\n",
    "print(f\"Training R-squared: {train_r2}\")\n",
    "print(f\"Test R-squared: {test_r2}\")"
   ]
  },
  {
   "cell_type": "code",
   "execution_count": null,
   "id": "2b6bdb77-b4a7-4420-9c52-faf01d85cc0d",
   "metadata": {},
   "outputs": [],
   "source": []
  }
 ],
 "metadata": {
  "kernelspec": {
   "display_name": "Python 3 (ipykernel)",
   "language": "python",
   "name": "python3"
  },
  "language_info": {
   "codemirror_mode": {
    "name": "ipython",
    "version": 3
   },
   "file_extension": ".py",
   "mimetype": "text/x-python",
   "name": "python",
   "nbconvert_exporter": "python",
   "pygments_lexer": "ipython3",
   "version": "3.11.7"
  }
 },
 "nbformat": 4,
 "nbformat_minor": 5
}
