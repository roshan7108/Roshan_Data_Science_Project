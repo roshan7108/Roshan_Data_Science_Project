{
 "cells": [
  {
   "cell_type": "markdown",
   "id": "2f6107d9-ea4d-4c37-b331-3e276685ec71",
   "metadata": {},
   "source": [
    "# Problem Statememnt ---> Customer churn is a significant issue for banks, impacting revenue and customer lifetime value. The goal is to develop a machine learning model that predicts whether a customer will churn (leave the bank) based on their demographic, financial, and account activity data.\n"
   ]
  },
  {
   "cell_type": "code",
   "execution_count": 1,
   "id": "77841197-e2d7-4eb9-8eec-182c152e7077",
   "metadata": {},
   "outputs": [],
   "source": [
    "# importing all the necessary library\n",
    "\n",
    "import pandas as pd\n",
    "import numpy as np\n",
    "import matplotlib.pyplot as plt\n",
    "import seaborn as sns\n",
    "import warnings\n",
    "warnings.filterwarnings(\"ignore\")"
   ]
  },
  {
   "cell_type": "markdown",
   "id": "7fdcbfc4-bea2-4359-b605-87c5503a3cc6",
   "metadata": {},
   "source": [
    "### Loading the datset"
   ]
  },
  {
   "cell_type": "code",
   "execution_count": 2,
   "id": "a689bf1f-b5d4-499b-b9dc-6099ec18a68a",
   "metadata": {},
   "outputs": [],
   "source": [
    "df = pd.read_excel('datasets/Bank_churn_Data.xlsx')"
   ]
  },
  {
   "cell_type": "code",
   "execution_count": 3,
   "id": "ed5dc4b5-f21a-424e-b0e7-993ea1ec5a50",
   "metadata": {},
   "outputs": [
    {
     "data": {
      "text/html": [
       "<div>\n",
       "<style scoped>\n",
       "    .dataframe tbody tr th:only-of-type {\n",
       "        vertical-align: middle;\n",
       "    }\n",
       "\n",
       "    .dataframe tbody tr th {\n",
       "        vertical-align: top;\n",
       "    }\n",
       "\n",
       "    .dataframe thead th {\n",
       "        text-align: right;\n",
       "    }\n",
       "</style>\n",
       "<table border=\"1\" class=\"dataframe\">\n",
       "  <thead>\n",
       "    <tr style=\"text-align: right;\">\n",
       "      <th></th>\n",
       "      <th>CustomerId</th>\n",
       "      <th>Surname</th>\n",
       "      <th>CreditScore</th>\n",
       "      <th>Geography</th>\n",
       "      <th>Gender</th>\n",
       "      <th>Age</th>\n",
       "      <th>Tenure</th>\n",
       "      <th>EstimatedSalary</th>\n",
       "      <th>Balance</th>\n",
       "      <th>NumOfProducts</th>\n",
       "      <th>HasCrCard</th>\n",
       "      <th>Tenure.1</th>\n",
       "      <th>IsActiveMember</th>\n",
       "      <th>Exited</th>\n",
       "    </tr>\n",
       "  </thead>\n",
       "  <tbody>\n",
       "    <tr>\n",
       "      <th>0</th>\n",
       "      <td>15634602</td>\n",
       "      <td>Hargrave</td>\n",
       "      <td>619</td>\n",
       "      <td>FRA</td>\n",
       "      <td>Female</td>\n",
       "      <td>42.0</td>\n",
       "      <td>2</td>\n",
       "      <td>€101348.88</td>\n",
       "      <td>€0.0</td>\n",
       "      <td>1</td>\n",
       "      <td>Yes</td>\n",
       "      <td>2</td>\n",
       "      <td>Yes</td>\n",
       "      <td>1</td>\n",
       "    </tr>\n",
       "    <tr>\n",
       "      <th>1</th>\n",
       "      <td>15647311</td>\n",
       "      <td>Hill</td>\n",
       "      <td>608</td>\n",
       "      <td>Spain</td>\n",
       "      <td>Female</td>\n",
       "      <td>41.0</td>\n",
       "      <td>1</td>\n",
       "      <td>€112542.58</td>\n",
       "      <td>€83807.86</td>\n",
       "      <td>1</td>\n",
       "      <td>Yes</td>\n",
       "      <td>1</td>\n",
       "      <td>Yes</td>\n",
       "      <td>0</td>\n",
       "    </tr>\n",
       "    <tr>\n",
       "      <th>2</th>\n",
       "      <td>15619304</td>\n",
       "      <td>Onio</td>\n",
       "      <td>502</td>\n",
       "      <td>French</td>\n",
       "      <td>Female</td>\n",
       "      <td>42.0</td>\n",
       "      <td>8</td>\n",
       "      <td>€113931.57</td>\n",
       "      <td>€159660.8</td>\n",
       "      <td>3</td>\n",
       "      <td>No</td>\n",
       "      <td>8</td>\n",
       "      <td>No</td>\n",
       "      <td>1</td>\n",
       "    </tr>\n",
       "    <tr>\n",
       "      <th>3</th>\n",
       "      <td>15701354</td>\n",
       "      <td>Boni</td>\n",
       "      <td>699</td>\n",
       "      <td>FRA</td>\n",
       "      <td>Female</td>\n",
       "      <td>39.0</td>\n",
       "      <td>1</td>\n",
       "      <td>€93826.63</td>\n",
       "      <td>€0.0</td>\n",
       "      <td>2</td>\n",
       "      <td>No</td>\n",
       "      <td>1</td>\n",
       "      <td>No</td>\n",
       "      <td>0</td>\n",
       "    </tr>\n",
       "    <tr>\n",
       "      <th>4</th>\n",
       "      <td>15737888</td>\n",
       "      <td>Mitchell</td>\n",
       "      <td>850</td>\n",
       "      <td>Spain</td>\n",
       "      <td>Female</td>\n",
       "      <td>43.0</td>\n",
       "      <td>2</td>\n",
       "      <td>€79084.1</td>\n",
       "      <td>€125510.82</td>\n",
       "      <td>1</td>\n",
       "      <td>Yes</td>\n",
       "      <td>2</td>\n",
       "      <td>Yes</td>\n",
       "      <td>0</td>\n",
       "    </tr>\n",
       "  </tbody>\n",
       "</table>\n",
       "</div>"
      ],
      "text/plain": [
       "   CustomerId   Surname  CreditScore Geography  Gender   Age  Tenure  \\\n",
       "0    15634602  Hargrave          619       FRA  Female  42.0       2   \n",
       "1    15647311      Hill          608     Spain  Female  41.0       1   \n",
       "2    15619304      Onio          502    French  Female  42.0       8   \n",
       "3    15701354      Boni          699       FRA  Female  39.0       1   \n",
       "4    15737888  Mitchell          850     Spain  Female  43.0       2   \n",
       "\n",
       "  EstimatedSalary     Balance  NumOfProducts HasCrCard  Tenure.1  \\\n",
       "0      €101348.88        €0.0              1       Yes         2   \n",
       "1      €112542.58   €83807.86              1       Yes         1   \n",
       "2      €113931.57   €159660.8              3        No         8   \n",
       "3       €93826.63        €0.0              2        No         1   \n",
       "4        €79084.1  €125510.82              1       Yes         2   \n",
       "\n",
       "  IsActiveMember  Exited  \n",
       "0            Yes       1  \n",
       "1            Yes       0  \n",
       "2             No       1  \n",
       "3             No       0  \n",
       "4            Yes       0  "
      ]
     },
     "execution_count": 3,
     "metadata": {},
     "output_type": "execute_result"
    }
   ],
   "source": [
    "# looking few rows\n",
    "df.head()"
   ]
  },
  {
   "cell_type": "markdown",
   "id": "b5973ec2-5281-477d-aded-108650d37576",
   "metadata": {},
   "source": [
    "### checking dataset using info(),describe() and all"
   ]
  },
  {
   "cell_type": "code",
   "execution_count": 4,
   "id": "cc0efb30-4f8e-4e6d-afae-f27dda6e99aa",
   "metadata": {},
   "outputs": [
    {
     "name": "stdout",
     "output_type": "stream",
     "text": [
      "<class 'pandas.core.frame.DataFrame'>\n",
      "RangeIndex: 10001 entries, 0 to 10000\n",
      "Data columns (total 14 columns):\n",
      " #   Column           Non-Null Count  Dtype  \n",
      "---  ------           --------------  -----  \n",
      " 0   CustomerId       10001 non-null  int64  \n",
      " 1   Surname          9998 non-null   object \n",
      " 2   CreditScore      10001 non-null  int64  \n",
      " 3   Geography        10001 non-null  object \n",
      " 4   Gender           10001 non-null  object \n",
      " 5   Age              9998 non-null   float64\n",
      " 6   Tenure           10001 non-null  int64  \n",
      " 7   EstimatedSalary  10001 non-null  object \n",
      " 8   Balance          10001 non-null  object \n",
      " 9   NumOfProducts    10001 non-null  int64  \n",
      " 10  HasCrCard        10001 non-null  object \n",
      " 11  Tenure.1         10001 non-null  int64  \n",
      " 12  IsActiveMember   10001 non-null  object \n",
      " 13  Exited           10001 non-null  int64  \n",
      "dtypes: float64(1), int64(6), object(7)\n",
      "memory usage: 1.1+ MB\n"
     ]
    }
   ],
   "source": [
    "df.info()"
   ]
  },
  {
   "cell_type": "code",
   "execution_count": 5,
   "id": "30ab80d0-7a9a-435c-bf08-4fc29f70ca34",
   "metadata": {},
   "outputs": [
    {
     "data": {
      "text/plain": [
       "1"
      ]
     },
     "execution_count": 5,
     "metadata": {},
     "output_type": "execute_result"
    }
   ],
   "source": [
    "df.duplicated().sum()"
   ]
  },
  {
   "cell_type": "code",
   "execution_count": 6,
   "id": "21008ef5-7a1b-4789-83c8-ae888f405f56",
   "metadata": {},
   "outputs": [
    {
     "data": {
      "text/html": [
       "<div>\n",
       "<style scoped>\n",
       "    .dataframe tbody tr th:only-of-type {\n",
       "        vertical-align: middle;\n",
       "    }\n",
       "\n",
       "    .dataframe tbody tr th {\n",
       "        vertical-align: top;\n",
       "    }\n",
       "\n",
       "    .dataframe thead th {\n",
       "        text-align: right;\n",
       "    }\n",
       "</style>\n",
       "<table border=\"1\" class=\"dataframe\">\n",
       "  <thead>\n",
       "    <tr style=\"text-align: right;\">\n",
       "      <th></th>\n",
       "      <th>CustomerId</th>\n",
       "      <th>Surname</th>\n",
       "      <th>CreditScore</th>\n",
       "      <th>Geography</th>\n",
       "      <th>Gender</th>\n",
       "      <th>Age</th>\n",
       "      <th>Tenure</th>\n",
       "      <th>EstimatedSalary</th>\n",
       "      <th>Balance</th>\n",
       "      <th>NumOfProducts</th>\n",
       "      <th>HasCrCard</th>\n",
       "      <th>Tenure.1</th>\n",
       "      <th>IsActiveMember</th>\n",
       "      <th>Exited</th>\n",
       "    </tr>\n",
       "  </thead>\n",
       "  <tbody>\n",
       "    <tr>\n",
       "      <th>10000</th>\n",
       "      <td>15628319</td>\n",
       "      <td>Walker</td>\n",
       "      <td>792</td>\n",
       "      <td>French</td>\n",
       "      <td>Female</td>\n",
       "      <td>28.0</td>\n",
       "      <td>4</td>\n",
       "      <td>€38190.78</td>\n",
       "      <td>€130142.79</td>\n",
       "      <td>1</td>\n",
       "      <td>No</td>\n",
       "      <td>4</td>\n",
       "      <td>No</td>\n",
       "      <td>0</td>\n",
       "    </tr>\n",
       "  </tbody>\n",
       "</table>\n",
       "</div>"
      ],
      "text/plain": [
       "       CustomerId Surname  CreditScore Geography  Gender   Age  Tenure  \\\n",
       "10000    15628319  Walker          792    French  Female  28.0       4   \n",
       "\n",
       "      EstimatedSalary     Balance  NumOfProducts HasCrCard  Tenure.1  \\\n",
       "10000       €38190.78  €130142.79              1        No         4   \n",
       "\n",
       "      IsActiveMember  Exited  \n",
       "10000             No       0  "
      ]
     },
     "execution_count": 6,
     "metadata": {},
     "output_type": "execute_result"
    }
   ],
   "source": [
    "df[df.duplicated()]"
   ]
  },
  {
   "cell_type": "code",
   "execution_count": 7,
   "id": "1b2b7e6c-c5b7-4389-817b-d5f5a2b3501a",
   "metadata": {},
   "outputs": [],
   "source": [
    "df = df.drop_duplicates()"
   ]
  },
  {
   "cell_type": "code",
   "execution_count": 8,
   "id": "5bebfac0-d0a4-4a3f-bc9a-ea01df9d7f12",
   "metadata": {},
   "outputs": [
    {
     "data": {
      "text/plain": [
       "0"
      ]
     },
     "execution_count": 8,
     "metadata": {},
     "output_type": "execute_result"
    }
   ],
   "source": [
    "df.duplicated().sum()"
   ]
  },
  {
   "cell_type": "code",
   "execution_count": 9,
   "id": "2548ee38-ccf6-4745-897e-3bfa0f9bd90d",
   "metadata": {},
   "outputs": [
    {
     "data": {
      "text/plain": [
       "(10000, 14)"
      ]
     },
     "execution_count": 9,
     "metadata": {},
     "output_type": "execute_result"
    }
   ],
   "source": [
    "df.shape"
   ]
  },
  {
   "cell_type": "code",
   "execution_count": 10,
   "id": "4ca6053f-3a94-4362-9e3b-34e563fdb091",
   "metadata": {},
   "outputs": [
    {
     "data": {
      "text/html": [
       "<div>\n",
       "<style scoped>\n",
       "    .dataframe tbody tr th:only-of-type {\n",
       "        vertical-align: middle;\n",
       "    }\n",
       "\n",
       "    .dataframe tbody tr th {\n",
       "        vertical-align: top;\n",
       "    }\n",
       "\n",
       "    .dataframe thead th {\n",
       "        text-align: right;\n",
       "    }\n",
       "</style>\n",
       "<table border=\"1\" class=\"dataframe\">\n",
       "  <thead>\n",
       "    <tr style=\"text-align: right;\">\n",
       "      <th></th>\n",
       "      <th>CustomerId</th>\n",
       "      <th>CreditScore</th>\n",
       "      <th>Age</th>\n",
       "      <th>Tenure</th>\n",
       "      <th>NumOfProducts</th>\n",
       "      <th>Tenure.1</th>\n",
       "      <th>Exited</th>\n",
       "    </tr>\n",
       "  </thead>\n",
       "  <tbody>\n",
       "    <tr>\n",
       "      <th>count</th>\n",
       "      <td>1.000000e+04</td>\n",
       "      <td>10000.000000</td>\n",
       "      <td>9997.000000</td>\n",
       "      <td>10000.000000</td>\n",
       "      <td>10000.000000</td>\n",
       "      <td>10000.000000</td>\n",
       "      <td>10000.000000</td>\n",
       "    </tr>\n",
       "    <tr>\n",
       "      <th>mean</th>\n",
       "      <td>1.569094e+07</td>\n",
       "      <td>650.528800</td>\n",
       "      <td>38.922077</td>\n",
       "      <td>5.012800</td>\n",
       "      <td>1.530200</td>\n",
       "      <td>5.012800</td>\n",
       "      <td>0.203700</td>\n",
       "    </tr>\n",
       "    <tr>\n",
       "      <th>std</th>\n",
       "      <td>7.193619e+04</td>\n",
       "      <td>96.653299</td>\n",
       "      <td>10.489072</td>\n",
       "      <td>2.892174</td>\n",
       "      <td>0.581654</td>\n",
       "      <td>2.892174</td>\n",
       "      <td>0.402769</td>\n",
       "    </tr>\n",
       "    <tr>\n",
       "      <th>min</th>\n",
       "      <td>1.556570e+07</td>\n",
       "      <td>350.000000</td>\n",
       "      <td>18.000000</td>\n",
       "      <td>0.000000</td>\n",
       "      <td>1.000000</td>\n",
       "      <td>0.000000</td>\n",
       "      <td>0.000000</td>\n",
       "    </tr>\n",
       "    <tr>\n",
       "      <th>25%</th>\n",
       "      <td>1.562853e+07</td>\n",
       "      <td>584.000000</td>\n",
       "      <td>32.000000</td>\n",
       "      <td>3.000000</td>\n",
       "      <td>1.000000</td>\n",
       "      <td>3.000000</td>\n",
       "      <td>0.000000</td>\n",
       "    </tr>\n",
       "    <tr>\n",
       "      <th>50%</th>\n",
       "      <td>1.569074e+07</td>\n",
       "      <td>652.000000</td>\n",
       "      <td>37.000000</td>\n",
       "      <td>5.000000</td>\n",
       "      <td>1.000000</td>\n",
       "      <td>5.000000</td>\n",
       "      <td>0.000000</td>\n",
       "    </tr>\n",
       "    <tr>\n",
       "      <th>75%</th>\n",
       "      <td>1.575323e+07</td>\n",
       "      <td>718.000000</td>\n",
       "      <td>44.000000</td>\n",
       "      <td>7.000000</td>\n",
       "      <td>2.000000</td>\n",
       "      <td>7.000000</td>\n",
       "      <td>0.000000</td>\n",
       "    </tr>\n",
       "    <tr>\n",
       "      <th>max</th>\n",
       "      <td>1.581569e+07</td>\n",
       "      <td>850.000000</td>\n",
       "      <td>92.000000</td>\n",
       "      <td>10.000000</td>\n",
       "      <td>4.000000</td>\n",
       "      <td>10.000000</td>\n",
       "      <td>1.000000</td>\n",
       "    </tr>\n",
       "  </tbody>\n",
       "</table>\n",
       "</div>"
      ],
      "text/plain": [
       "         CustomerId   CreditScore          Age        Tenure  NumOfProducts  \\\n",
       "count  1.000000e+04  10000.000000  9997.000000  10000.000000   10000.000000   \n",
       "mean   1.569094e+07    650.528800    38.922077      5.012800       1.530200   \n",
       "std    7.193619e+04     96.653299    10.489072      2.892174       0.581654   \n",
       "min    1.556570e+07    350.000000    18.000000      0.000000       1.000000   \n",
       "25%    1.562853e+07    584.000000    32.000000      3.000000       1.000000   \n",
       "50%    1.569074e+07    652.000000    37.000000      5.000000       1.000000   \n",
       "75%    1.575323e+07    718.000000    44.000000      7.000000       2.000000   \n",
       "max    1.581569e+07    850.000000    92.000000     10.000000       4.000000   \n",
       "\n",
       "           Tenure.1        Exited  \n",
       "count  10000.000000  10000.000000  \n",
       "mean       5.012800      0.203700  \n",
       "std        2.892174      0.402769  \n",
       "min        0.000000      0.000000  \n",
       "25%        3.000000      0.000000  \n",
       "50%        5.000000      0.000000  \n",
       "75%        7.000000      0.000000  \n",
       "max       10.000000      1.000000  "
      ]
     },
     "execution_count": 10,
     "metadata": {},
     "output_type": "execute_result"
    }
   ],
   "source": [
    "df.describe()"
   ]
  },
  {
   "cell_type": "code",
   "execution_count": 11,
   "id": "f79afab8-337d-4e02-b3b6-65dce5338916",
   "metadata": {},
   "outputs": [
    {
     "data": {
      "text/plain": [
       "Index(['CustomerId', 'Surname', 'CreditScore', 'Geography', 'Gender', 'Age',\n",
       "       'Tenure', 'EstimatedSalary', 'Balance', 'NumOfProducts', 'HasCrCard',\n",
       "       'Tenure.1', 'IsActiveMember', 'Exited'],\n",
       "      dtype='object')"
      ]
     },
     "execution_count": 11,
     "metadata": {},
     "output_type": "execute_result"
    }
   ],
   "source": [
    "df.columns"
   ]
  },
  {
   "cell_type": "markdown",
   "id": "2bdff522-9fde-47e0-9ff7-339673839ac3",
   "metadata": {},
   "source": [
    "### checking Missing values"
   ]
  },
  {
   "cell_type": "code",
   "execution_count": 12,
   "id": "101be2aa-b63b-49d1-b306-6e3f2e607179",
   "metadata": {},
   "outputs": [
    {
     "data": {
      "text/plain": [
       "CustomerId         0\n",
       "Surname            3\n",
       "CreditScore        0\n",
       "Geography          0\n",
       "Gender             0\n",
       "Age                3\n",
       "Tenure             0\n",
       "EstimatedSalary    0\n",
       "Balance            0\n",
       "NumOfProducts      0\n",
       "HasCrCard          0\n",
       "Tenure.1           0\n",
       "IsActiveMember     0\n",
       "Exited             0\n",
       "dtype: int64"
      ]
     },
     "execution_count": 12,
     "metadata": {},
     "output_type": "execute_result"
    }
   ],
   "source": [
    "df.isnull().sum()"
   ]
  },
  {
   "cell_type": "code",
   "execution_count": 13,
   "id": "5917a150-4cc8-4602-9d84-3f71abda34ab",
   "metadata": {},
   "outputs": [
    {
     "data": {
      "text/plain": [
       "37.0"
      ]
     },
     "execution_count": 13,
     "metadata": {},
     "output_type": "execute_result"
    }
   ],
   "source": [
    "df['Age'].median()"
   ]
  },
  {
   "cell_type": "markdown",
   "id": "d960fac1-b56a-40bb-b04c-8f7eccdfd23e",
   "metadata": {},
   "source": [
    "# we will not handle the outliers in this data the reason is this is bank data and many users whose age is more than 80 then high chance that they will churn"
   ]
  },
  {
   "cell_type": "markdown",
   "id": "b8d7081d-affd-45c2-b1e6-9e370ce21cb3",
   "metadata": {},
   "source": [
    "### Handling missing Value"
   ]
  },
  {
   "cell_type": "code",
   "execution_count": 14,
   "id": "9d2a2653-6e8e-449c-a3aa-72d4903de05c",
   "metadata": {},
   "outputs": [],
   "source": [
    "df['Age'].fillna(df['Age'].median(), inplace=True)"
   ]
  },
  {
   "cell_type": "code",
   "execution_count": 15,
   "id": "e09a7577-058d-4a4d-bb56-7368a5a243d7",
   "metadata": {},
   "outputs": [
    {
     "data": {
      "text/html": [
       "<div>\n",
       "<style scoped>\n",
       "    .dataframe tbody tr th:only-of-type {\n",
       "        vertical-align: middle;\n",
       "    }\n",
       "\n",
       "    .dataframe tbody tr th {\n",
       "        vertical-align: top;\n",
       "    }\n",
       "\n",
       "    .dataframe thead th {\n",
       "        text-align: right;\n",
       "    }\n",
       "</style>\n",
       "<table border=\"1\" class=\"dataframe\">\n",
       "  <thead>\n",
       "    <tr style=\"text-align: right;\">\n",
       "      <th></th>\n",
       "      <th>CustomerId</th>\n",
       "      <th>Surname</th>\n",
       "      <th>CreditScore</th>\n",
       "      <th>Geography</th>\n",
       "      <th>Gender</th>\n",
       "      <th>Age</th>\n",
       "      <th>Tenure</th>\n",
       "      <th>EstimatedSalary</th>\n",
       "      <th>Balance</th>\n",
       "      <th>NumOfProducts</th>\n",
       "      <th>HasCrCard</th>\n",
       "      <th>Tenure.1</th>\n",
       "      <th>IsActiveMember</th>\n",
       "      <th>Exited</th>\n",
       "    </tr>\n",
       "  </thead>\n",
       "  <tbody>\n",
       "    <tr>\n",
       "      <th>0</th>\n",
       "      <td>15634602</td>\n",
       "      <td>Hargrave</td>\n",
       "      <td>619</td>\n",
       "      <td>FRA</td>\n",
       "      <td>Female</td>\n",
       "      <td>42.0</td>\n",
       "      <td>2</td>\n",
       "      <td>€101348.88</td>\n",
       "      <td>€0.0</td>\n",
       "      <td>1</td>\n",
       "      <td>Yes</td>\n",
       "      <td>2</td>\n",
       "      <td>Yes</td>\n",
       "      <td>1</td>\n",
       "    </tr>\n",
       "    <tr>\n",
       "      <th>1</th>\n",
       "      <td>15647311</td>\n",
       "      <td>Hill</td>\n",
       "      <td>608</td>\n",
       "      <td>Spain</td>\n",
       "      <td>Female</td>\n",
       "      <td>41.0</td>\n",
       "      <td>1</td>\n",
       "      <td>€112542.58</td>\n",
       "      <td>€83807.86</td>\n",
       "      <td>1</td>\n",
       "      <td>Yes</td>\n",
       "      <td>1</td>\n",
       "      <td>Yes</td>\n",
       "      <td>0</td>\n",
       "    </tr>\n",
       "    <tr>\n",
       "      <th>2</th>\n",
       "      <td>15619304</td>\n",
       "      <td>Onio</td>\n",
       "      <td>502</td>\n",
       "      <td>French</td>\n",
       "      <td>Female</td>\n",
       "      <td>42.0</td>\n",
       "      <td>8</td>\n",
       "      <td>€113931.57</td>\n",
       "      <td>€159660.8</td>\n",
       "      <td>3</td>\n",
       "      <td>No</td>\n",
       "      <td>8</td>\n",
       "      <td>No</td>\n",
       "      <td>1</td>\n",
       "    </tr>\n",
       "    <tr>\n",
       "      <th>3</th>\n",
       "      <td>15701354</td>\n",
       "      <td>Boni</td>\n",
       "      <td>699</td>\n",
       "      <td>FRA</td>\n",
       "      <td>Female</td>\n",
       "      <td>39.0</td>\n",
       "      <td>1</td>\n",
       "      <td>€93826.63</td>\n",
       "      <td>€0.0</td>\n",
       "      <td>2</td>\n",
       "      <td>No</td>\n",
       "      <td>1</td>\n",
       "      <td>No</td>\n",
       "      <td>0</td>\n",
       "    </tr>\n",
       "    <tr>\n",
       "      <th>4</th>\n",
       "      <td>15737888</td>\n",
       "      <td>Mitchell</td>\n",
       "      <td>850</td>\n",
       "      <td>Spain</td>\n",
       "      <td>Female</td>\n",
       "      <td>43.0</td>\n",
       "      <td>2</td>\n",
       "      <td>€79084.1</td>\n",
       "      <td>€125510.82</td>\n",
       "      <td>1</td>\n",
       "      <td>Yes</td>\n",
       "      <td>2</td>\n",
       "      <td>Yes</td>\n",
       "      <td>0</td>\n",
       "    </tr>\n",
       "  </tbody>\n",
       "</table>\n",
       "</div>"
      ],
      "text/plain": [
       "   CustomerId   Surname  CreditScore Geography  Gender   Age  Tenure  \\\n",
       "0    15634602  Hargrave          619       FRA  Female  42.0       2   \n",
       "1    15647311      Hill          608     Spain  Female  41.0       1   \n",
       "2    15619304      Onio          502    French  Female  42.0       8   \n",
       "3    15701354      Boni          699       FRA  Female  39.0       1   \n",
       "4    15737888  Mitchell          850     Spain  Female  43.0       2   \n",
       "\n",
       "  EstimatedSalary     Balance  NumOfProducts HasCrCard  Tenure.1  \\\n",
       "0      €101348.88        €0.0              1       Yes         2   \n",
       "1      €112542.58   €83807.86              1       Yes         1   \n",
       "2      €113931.57   €159660.8              3        No         8   \n",
       "3       €93826.63        €0.0              2        No         1   \n",
       "4        €79084.1  €125510.82              1       Yes         2   \n",
       "\n",
       "  IsActiveMember  Exited  \n",
       "0            Yes       1  \n",
       "1            Yes       0  \n",
       "2             No       1  \n",
       "3             No       0  \n",
       "4            Yes       0  "
      ]
     },
     "execution_count": 15,
     "metadata": {},
     "output_type": "execute_result"
    }
   ],
   "source": [
    "df.head()"
   ]
  },
  {
   "cell_type": "markdown",
   "id": "73c4570f-c7a4-41de-812d-b1cde645e0a0",
   "metadata": {},
   "source": [
    "### using encoding method to change into numeric column"
   ]
  },
  {
   "cell_type": "code",
   "execution_count": 16,
   "id": "9bfd3d40-d93d-4059-a3ab-a54bf615be3a",
   "metadata": {},
   "outputs": [],
   "source": [
    "df['Gender'] = df['Gender'].map({'Male':1, 'Female':0})\n",
    "df['HasCrCard'] = df['HasCrCard'].map({'Yes':1, 'No':0})\n",
    "df['IsActiveMember'] = df['IsActiveMember'].map({'Yes':1, 'No':0})"
   ]
  },
  {
   "cell_type": "code",
   "execution_count": 17,
   "id": "ba8cfbd3-6475-480f-a45f-d2b4428042ee",
   "metadata": {},
   "outputs": [],
   "source": [
    "# handling Geography with label encoding\n",
    "from sklearn.preprocessing import LabelEncoder\n",
    "label_encoder = LabelEncoder()"
   ]
  },
  {
   "cell_type": "code",
   "execution_count": 18,
   "id": "8b8bc0a3-ce9e-4fdb-bba2-ed96bc14906c",
   "metadata": {},
   "outputs": [],
   "source": [
    "df['Geography'] = label_encoder.fit_transform(df['Geography'])"
   ]
  },
  {
   "cell_type": "markdown",
   "id": "ebd89314-b7aa-4686-8aa0-05434dbe4e64",
   "metadata": {},
   "source": [
    "### removing euro sign and converting data into numeric column"
   ]
  },
  {
   "cell_type": "code",
   "execution_count": 19,
   "id": "a4e57c81-53d2-4e9e-ad89-ab6294464766",
   "metadata": {},
   "outputs": [],
   "source": [
    "df['Balance'] = df['Balance'].str.replace('€', '', regex=False)\n",
    "df['EstimatedSalary'] = df['EstimatedSalary'].str.replace('€', '', regex=False)\n",
    "\n",
    "df['Balance'] = pd.to_numeric(df['Balance'], errors='coerce')\n",
    "df['EstimatedSalary'] = pd.to_numeric(df['EstimatedSalary'], errors='coerce')"
   ]
  },
  {
   "cell_type": "code",
   "execution_count": 20,
   "id": "2ad71a78-6a4c-429d-aa5a-98a40fd2eb46",
   "metadata": {},
   "outputs": [
    {
     "data": {
      "text/html": [
       "<div>\n",
       "<style scoped>\n",
       "    .dataframe tbody tr th:only-of-type {\n",
       "        vertical-align: middle;\n",
       "    }\n",
       "\n",
       "    .dataframe tbody tr th {\n",
       "        vertical-align: top;\n",
       "    }\n",
       "\n",
       "    .dataframe thead th {\n",
       "        text-align: right;\n",
       "    }\n",
       "</style>\n",
       "<table border=\"1\" class=\"dataframe\">\n",
       "  <thead>\n",
       "    <tr style=\"text-align: right;\">\n",
       "      <th></th>\n",
       "      <th>CustomerId</th>\n",
       "      <th>Surname</th>\n",
       "      <th>CreditScore</th>\n",
       "      <th>Geography</th>\n",
       "      <th>Gender</th>\n",
       "      <th>Age</th>\n",
       "      <th>Tenure</th>\n",
       "      <th>EstimatedSalary</th>\n",
       "      <th>Balance</th>\n",
       "      <th>NumOfProducts</th>\n",
       "      <th>HasCrCard</th>\n",
       "      <th>Tenure.1</th>\n",
       "      <th>IsActiveMember</th>\n",
       "      <th>Exited</th>\n",
       "    </tr>\n",
       "  </thead>\n",
       "  <tbody>\n",
       "    <tr>\n",
       "      <th>0</th>\n",
       "      <td>15634602</td>\n",
       "      <td>Hargrave</td>\n",
       "      <td>619</td>\n",
       "      <td>0</td>\n",
       "      <td>0</td>\n",
       "      <td>42.0</td>\n",
       "      <td>2</td>\n",
       "      <td>101348.88</td>\n",
       "      <td>0.00</td>\n",
       "      <td>1</td>\n",
       "      <td>1</td>\n",
       "      <td>2</td>\n",
       "      <td>1</td>\n",
       "      <td>1</td>\n",
       "    </tr>\n",
       "    <tr>\n",
       "      <th>1</th>\n",
       "      <td>15647311</td>\n",
       "      <td>Hill</td>\n",
       "      <td>608</td>\n",
       "      <td>4</td>\n",
       "      <td>0</td>\n",
       "      <td>41.0</td>\n",
       "      <td>1</td>\n",
       "      <td>112542.58</td>\n",
       "      <td>83807.86</td>\n",
       "      <td>1</td>\n",
       "      <td>1</td>\n",
       "      <td>1</td>\n",
       "      <td>1</td>\n",
       "      <td>0</td>\n",
       "    </tr>\n",
       "    <tr>\n",
       "      <th>2</th>\n",
       "      <td>15619304</td>\n",
       "      <td>Onio</td>\n",
       "      <td>502</td>\n",
       "      <td>2</td>\n",
       "      <td>0</td>\n",
       "      <td>42.0</td>\n",
       "      <td>8</td>\n",
       "      <td>113931.57</td>\n",
       "      <td>159660.80</td>\n",
       "      <td>3</td>\n",
       "      <td>0</td>\n",
       "      <td>8</td>\n",
       "      <td>0</td>\n",
       "      <td>1</td>\n",
       "    </tr>\n",
       "    <tr>\n",
       "      <th>3</th>\n",
       "      <td>15701354</td>\n",
       "      <td>Boni</td>\n",
       "      <td>699</td>\n",
       "      <td>0</td>\n",
       "      <td>0</td>\n",
       "      <td>39.0</td>\n",
       "      <td>1</td>\n",
       "      <td>93826.63</td>\n",
       "      <td>0.00</td>\n",
       "      <td>2</td>\n",
       "      <td>0</td>\n",
       "      <td>1</td>\n",
       "      <td>0</td>\n",
       "      <td>0</td>\n",
       "    </tr>\n",
       "    <tr>\n",
       "      <th>4</th>\n",
       "      <td>15737888</td>\n",
       "      <td>Mitchell</td>\n",
       "      <td>850</td>\n",
       "      <td>4</td>\n",
       "      <td>0</td>\n",
       "      <td>43.0</td>\n",
       "      <td>2</td>\n",
       "      <td>79084.10</td>\n",
       "      <td>125510.82</td>\n",
       "      <td>1</td>\n",
       "      <td>1</td>\n",
       "      <td>2</td>\n",
       "      <td>1</td>\n",
       "      <td>0</td>\n",
       "    </tr>\n",
       "  </tbody>\n",
       "</table>\n",
       "</div>"
      ],
      "text/plain": [
       "   CustomerId   Surname  CreditScore  Geography  Gender   Age  Tenure  \\\n",
       "0    15634602  Hargrave          619          0       0  42.0       2   \n",
       "1    15647311      Hill          608          4       0  41.0       1   \n",
       "2    15619304      Onio          502          2       0  42.0       8   \n",
       "3    15701354      Boni          699          0       0  39.0       1   \n",
       "4    15737888  Mitchell          850          4       0  43.0       2   \n",
       "\n",
       "   EstimatedSalary    Balance  NumOfProducts  HasCrCard  Tenure.1  \\\n",
       "0        101348.88       0.00              1          1         2   \n",
       "1        112542.58   83807.86              1          1         1   \n",
       "2        113931.57  159660.80              3          0         8   \n",
       "3         93826.63       0.00              2          0         1   \n",
       "4         79084.10  125510.82              1          1         2   \n",
       "\n",
       "   IsActiveMember  Exited  \n",
       "0               1       1  \n",
       "1               1       0  \n",
       "2               0       1  \n",
       "3               0       0  \n",
       "4               1       0  "
      ]
     },
     "execution_count": 20,
     "metadata": {},
     "output_type": "execute_result"
    }
   ],
   "source": [
    "df.head()"
   ]
  },
  {
   "cell_type": "markdown",
   "id": "0afadd7e-084a-4d4f-984e-e009baa93e56",
   "metadata": {},
   "source": [
    "## Devided the data into X and Y and dropped features that is not required"
   ]
  },
  {
   "cell_type": "code",
   "execution_count": 21,
   "id": "bbb23dc4-7b15-49a9-a73c-5e3744183b99",
   "metadata": {},
   "outputs": [],
   "source": [
    "y = df['Exited']\n",
    "X = df.drop(df[['CustomerId','Surname','Exited','Tenure.1']], axis = 1)"
   ]
  },
  {
   "cell_type": "markdown",
   "id": "a2e77216-a09a-48fc-8325-3b64a222a6cb",
   "metadata": {},
   "source": [
    "### Featuring scaling"
   ]
  },
  {
   "cell_type": "code",
   "execution_count": 22,
   "id": "eb05658b-3aa8-4042-87e8-742e1e342069",
   "metadata": {},
   "outputs": [],
   "source": [
    "# importing the library\n",
    "\n",
    "from sklearn.preprocessing import StandardScaler\n",
    "\n",
    "#initialized the Library\n",
    "scaler = StandardScaler()"
   ]
  },
  {
   "cell_type": "code",
   "execution_count": 23,
   "id": "00c99685-526d-4567-9865-88aec49c5dd7",
   "metadata": {},
   "outputs": [],
   "source": [
    "# divided data into binary and numeric column\n",
    "\n",
    "binary_column = ['Geography','HasCrCard','IsActiveMember','Gender']\n",
    "numerical_column = X.drop(columns = binary_column).columns"
   ]
  },
  {
   "cell_type": "code",
   "execution_count": 24,
   "id": "45d85577-cfff-4b26-a1a9-883e7a89d91b",
   "metadata": {},
   "outputs": [],
   "source": [
    "x = X.copy()\n",
    "x[numerical_column] = scaler.fit_transform(x[numerical_column])"
   ]
  },
  {
   "cell_type": "code",
   "execution_count": 25,
   "id": "d8017a38-577b-4d55-82de-40b4d41764c7",
   "metadata": {},
   "outputs": [
    {
     "data": {
      "text/html": [
       "<div>\n",
       "<style scoped>\n",
       "    .dataframe tbody tr th:only-of-type {\n",
       "        vertical-align: middle;\n",
       "    }\n",
       "\n",
       "    .dataframe tbody tr th {\n",
       "        vertical-align: top;\n",
       "    }\n",
       "\n",
       "    .dataframe thead th {\n",
       "        text-align: right;\n",
       "    }\n",
       "</style>\n",
       "<table border=\"1\" class=\"dataframe\">\n",
       "  <thead>\n",
       "    <tr style=\"text-align: right;\">\n",
       "      <th></th>\n",
       "      <th>CreditScore</th>\n",
       "      <th>Geography</th>\n",
       "      <th>Gender</th>\n",
       "      <th>Age</th>\n",
       "      <th>Tenure</th>\n",
       "      <th>EstimatedSalary</th>\n",
       "      <th>Balance</th>\n",
       "      <th>NumOfProducts</th>\n",
       "      <th>HasCrCard</th>\n",
       "      <th>IsActiveMember</th>\n",
       "    </tr>\n",
       "  </thead>\n",
       "  <tbody>\n",
       "    <tr>\n",
       "      <th>0</th>\n",
       "      <td>-0.326221</td>\n",
       "      <td>0</td>\n",
       "      <td>0</td>\n",
       "      <td>0.293553</td>\n",
       "      <td>-1.041760</td>\n",
       "      <td>0.026191</td>\n",
       "      <td>-1.225848</td>\n",
       "      <td>-0.911583</td>\n",
       "      <td>1</td>\n",
       "      <td>1</td>\n",
       "    </tr>\n",
       "    <tr>\n",
       "      <th>1</th>\n",
       "      <td>-0.440036</td>\n",
       "      <td>4</td>\n",
       "      <td>0</td>\n",
       "      <td>0.198197</td>\n",
       "      <td>-1.387538</td>\n",
       "      <td>0.210964</td>\n",
       "      <td>0.117350</td>\n",
       "      <td>-0.911583</td>\n",
       "      <td>1</td>\n",
       "      <td>1</td>\n",
       "    </tr>\n",
       "    <tr>\n",
       "      <th>2</th>\n",
       "      <td>-1.536794</td>\n",
       "      <td>2</td>\n",
       "      <td>0</td>\n",
       "      <td>0.293553</td>\n",
       "      <td>1.032908</td>\n",
       "      <td>0.233892</td>\n",
       "      <td>1.333053</td>\n",
       "      <td>2.527057</td>\n",
       "      <td>0</td>\n",
       "      <td>0</td>\n",
       "    </tr>\n",
       "    <tr>\n",
       "      <th>3</th>\n",
       "      <td>0.501521</td>\n",
       "      <td>0</td>\n",
       "      <td>0</td>\n",
       "      <td>0.007485</td>\n",
       "      <td>-1.387538</td>\n",
       "      <td>-0.097978</td>\n",
       "      <td>-1.225848</td>\n",
       "      <td>0.807737</td>\n",
       "      <td>0</td>\n",
       "      <td>0</td>\n",
       "    </tr>\n",
       "    <tr>\n",
       "      <th>4</th>\n",
       "      <td>2.063884</td>\n",
       "      <td>4</td>\n",
       "      <td>0</td>\n",
       "      <td>0.388909</td>\n",
       "      <td>-1.041760</td>\n",
       "      <td>-0.341331</td>\n",
       "      <td>0.785728</td>\n",
       "      <td>-0.911583</td>\n",
       "      <td>1</td>\n",
       "      <td>1</td>\n",
       "    </tr>\n",
       "  </tbody>\n",
       "</table>\n",
       "</div>"
      ],
      "text/plain": [
       "   CreditScore  Geography  Gender       Age    Tenure  EstimatedSalary  \\\n",
       "0    -0.326221          0       0  0.293553 -1.041760         0.026191   \n",
       "1    -0.440036          4       0  0.198197 -1.387538         0.210964   \n",
       "2    -1.536794          2       0  0.293553  1.032908         0.233892   \n",
       "3     0.501521          0       0  0.007485 -1.387538        -0.097978   \n",
       "4     2.063884          4       0  0.388909 -1.041760        -0.341331   \n",
       "\n",
       "    Balance  NumOfProducts  HasCrCard  IsActiveMember  \n",
       "0 -1.225848      -0.911583          1               1  \n",
       "1  0.117350      -0.911583          1               1  \n",
       "2  1.333053       2.527057          0               0  \n",
       "3 -1.225848       0.807737          0               0  \n",
       "4  0.785728      -0.911583          1               1  "
      ]
     },
     "execution_count": 25,
     "metadata": {},
     "output_type": "execute_result"
    }
   ],
   "source": [
    "x.head()"
   ]
  },
  {
   "cell_type": "markdown",
   "id": "234a96ed-944e-4c60-a385-7eb1e438b379",
   "metadata": {},
   "source": [
    "### Importing all the required library and splitting the data into train and test"
   ]
  },
  {
   "cell_type": "code",
   "execution_count": 26,
   "id": "af782d48-3f41-4d43-91c5-dd090acb7cb8",
   "metadata": {},
   "outputs": [],
   "source": [
    "from sklearn.model_selection import train_test_split\n",
    "x_train, x_test, y_train, y_test = train_test_split(x, y, test_size=0.2, random_state=42)"
   ]
  },
  {
   "cell_type": "code",
   "execution_count": 27,
   "id": "72a892bd-e39c-4793-bbc5-2aa395b7df28",
   "metadata": {},
   "outputs": [],
   "source": [
    "from sklearn.linear_model import LogisticRegression\n",
    "from sklearn.tree import DecisionTreeClassifier\n",
    "from sklearn.ensemble import RandomForestClassifier, VotingClassifier\n",
    "from xgboost import XGBClassifier\n",
    "from sklearn.neighbors import KNeighborsClassifier\n",
    "from sklearn.svm import SVC\n",
    "from sklearn.naive_bayes import GaussianNB\n",
    "# evaluation matrics\n",
    "from sklearn.metrics import confusion_matrix, classification_report, accuracy_score"
   ]
  },
  {
   "cell_type": "markdown",
   "id": "9452a823-399b-4ae5-989b-0bd50614ce2c",
   "metadata": {},
   "source": [
    "## training the Model with multiple model and checking the accuracy"
   ]
  },
  {
   "cell_type": "code",
   "execution_count": 28,
   "id": "ad6af5ee-09ab-426b-9ec8-15dd391a77d2",
   "metadata": {},
   "outputs": [
    {
     "name": "stdout",
     "output_type": "stream",
     "text": [
      "      Method Used  Accuracy\n",
      "0  LogitRegession    0.8145\n",
      "1           Dtree    0.7815\n",
      "2         RForest    0.8625\n",
      "3             XGB    0.8640\n",
      "4             KNN    0.8430\n",
      "5             SVM    0.8540\n",
      "6             NBT    0.8415\n",
      "7          Voting    0.8605\n",
      "Axes(0.125,0.11;0.775x0.77)\n"
     ]
    },
    {
     "data": {
      "image/png": "[encoded data removed]",
      "text/plain": [
       "<Figure size 640x480 with 1 Axes>"
      ]
     },
     "metadata": {},
     "output_type": "display_data"
    }
   ],
   "source": [
    "list_met = []\n",
    "list_accuracy = []\n",
    "\n",
    "# LogisticRegression\n",
    "logit = LogisticRegression()\n",
    "logit = logit.fit(x_train, y_train)\n",
    "y_pred_lr = logit.predict(x_test)\n",
    "accuracy_lr = accuracy_score(y_test, y_pred_lr)\n",
    "\n",
    "# DecisionTree\n",
    "dtree = DecisionTreeClassifier()\n",
    "dtree = dtree.fit(x_train, y_train)\n",
    "y_pred_dt = dtree.predict(x_test)\n",
    "accuracy_dt = accuracy_score(y_test, y_pred_dt)\n",
    "\n",
    "# RandomForest\n",
    "rforest = RandomForestClassifier()\n",
    "rforest = rforest.fit(x_train, y_train)\n",
    "y_pred_rf = rforest.predict(x_test)\n",
    "accuracy_rf = accuracy_score(y_test, y_pred_rf)\n",
    "\n",
    "# XGBoost\n",
    "xgboost = XGBClassifier()\n",
    "xgboost = xgboost.fit(x_train, y_train)\n",
    "y_pred_xg = xgboost.predict(x_test)\n",
    "accuracy_xg = accuracy_score(y_test, y_pred_xg)\n",
    "\n",
    "# KNN\n",
    "knn = KNeighborsClassifier()\n",
    "knn = knn.fit(x_train, y_train)\n",
    "y_pred_knn = knn.predict(x_test)\n",
    "accuracy_knn = accuracy_score(y_test, y_pred_knn)\n",
    "\n",
    "# KNN\n",
    "knn = KNeighborsClassifier()\n",
    "knn = knn.fit(x_train, y_train)\n",
    "y_pred_knn = knn.predict(x_test)\n",
    "accuracy_knn = accuracy_score(y_test, y_pred_knn)\n",
    "\n",
    "# SVM\n",
    "svm = SVC()\n",
    "svm = svm.fit(x_train, y_train)\n",
    "y_pred_svm = svm.predict(x_test)\n",
    "accuracy_svm = accuracy_score(y_test, y_pred_svm)\n",
    "\n",
    "# Naive Based Theorem\n",
    "nbt = GaussianNB()\n",
    "nbt = nbt.fit(x_train, y_train)\n",
    "y_pred_nbt = nbt.predict(x_test)\n",
    "accuracy_nbt = accuracy_score(y_test, y_pred_nbt)\n",
    "\n",
    "# Voting Classifier - combining all the above model together by using voting classifier approach\n",
    "model_evc = VotingClassifier(estimators = [('logit',logit), ('dtree',dtree), ('rforest',rforest),('xgboost',xgboost),\n",
    "                                           ('knn',knn),('svm',svm),('nbt',nbt)])\n",
    "model_evc = model_evc.fit(x_train, y_train)\n",
    "pred_evc = model_evc.predict(x_test)\n",
    "accuracy_evc = accuracy_score(y_test, pred_evc)\n",
    "\n",
    "list1 = ['LogitRegession','Dtree','RForest','XGB','KNN','SVM','NBT','Voting']\n",
    "list2 = [accuracy_lr,accuracy_dt,accuracy_rf,accuracy_xg,accuracy_knn,accuracy_svm,accuracy_nbt,accuracy_evc]\n",
    "list3 = [logit,dtree,rforest,xgboost,knn,svm,nbt,model_evc]\n",
    "\n",
    "df_accuracy = pd.DataFrame({\"Method Used\":list1, \"Accuracy\":list2})\n",
    "\n",
    "print(df_accuracy)\n",
    "\n",
    "chart = sns.barplot(x=\"Method Used\", y=\"Accuracy\", data=df_accuracy)\n",
    "chart.set_xticklabels(chart.get_xticklabels(), rotation=90)\n",
    "print(chart)                          \n",
    "                               "
   ]
  },
  {
   "cell_type": "markdown",
   "id": "37dfd9c5-592e-46bc-a2fb-6605cecab5e2",
   "metadata": {},
   "source": [
    "## Check underfitting and overfitting problem (high bias or high variance problem)- Bias-Variance Trade off"
   ]
  },
  {
   "cell_type": "code",
   "execution_count": 29,
   "id": "904774aa-f416-41d2-b4d0-d240da3a3291",
   "metadata": {},
   "outputs": [
    {
     "name": "stdout",
     "output_type": "stream",
     "text": [
      "************************\n",
      "Training Accuracy : 0.912\n",
      "************************\n",
      "Testb Accuracy : 0.8605\n"
     ]
    }
   ],
   "source": [
    "\n",
    "\n",
    "pred_evc_train = model_evc.predict(x_train)\n",
    "pred_evc_test = model_evc.predict(x_test)\n",
    "accuracy_evc_train = accuracy_score(y_train, pred_evc_train)\n",
    "accuracy_evc_test = accuracy_score(y_test, pred_evc_test)\n",
    "\n",
    "print(\"************************\")\n",
    "print(\"Training Accuracy :\",accuracy_evc_train)\n",
    "print(\"************************\")\n",
    "print(\"Testb Accuracy :\",accuracy_evc_test)"
   ]
  },
  {
   "cell_type": "markdown",
   "id": "a6b20512-622d-4f10-bebe-7cb82cee450c",
   "metadata": {},
   "source": [
    "## using cross validation to overcome with overfitting"
   ]
  },
  {
   "cell_type": "code",
   "execution_count": 30,
   "id": "34fca408-65b2-4b9c-bed6-ee1b452fafc1",
   "metadata": {},
   "outputs": [
    {
     "name": "stdout",
     "output_type": "stream",
     "text": [
      "Training Accuracy : 0.86\n",
      "***************\n",
      "Testb Accuracy : 0.8605\n"
     ]
    }
   ],
   "source": [
    "from sklearn.model_selection import cross_val_score\n",
    "training = cross_val_score(model_evc, x_train, y_train, cv=10)\n",
    "#print(\"Training Accuracy :\", training.mean())\n",
    "print(f\"Training Accuracy : {training.mean():.2f}\")\n",
    "print(\"***************\")\n",
    "print(\"Testb Accuracy :\",accuracy_evc_test)"
   ]
  },
  {
   "cell_type": "code",
   "execution_count": 31,
   "id": "6350835b-7538-476d-8307-5d587fbfaad0",
   "metadata": {},
   "outputs": [
    {
     "data": {
      "text/plain": [
       "array([0.8625 , 0.85625, 0.85375, 0.85875, 0.85   , 0.8575 , 0.8775 ,\n",
       "       0.85125, 0.855  , 0.84625])"
      ]
     },
     "execution_count": 31,
     "metadata": {},
     "output_type": "execute_result"
    }
   ],
   "source": [
    "training"
   ]
  },
  {
   "cell_type": "code",
   "execution_count": 32,
   "id": "c0ae3372-99a6-496b-bdc5-f4e2c6708bbe",
   "metadata": {},
   "outputs": [
    {
     "name": "stdout",
     "output_type": "stream",
     "text": [
      "************************\n",
      "Training Accuracy :               precision    recall  f1-score   support\n",
      "\n",
      "           0       0.90      1.00      0.95      6356\n",
      "           1       0.98      0.59      0.73      1644\n",
      "\n",
      "    accuracy                           0.91      8000\n",
      "   macro avg       0.94      0.79      0.84      8000\n",
      "weighted avg       0.92      0.91      0.90      8000\n",
      "\n",
      "************************\n",
      "Testb Accuracy :               precision    recall  f1-score   support\n",
      "\n",
      "           0       0.87      0.98      0.92      1607\n",
      "           1       0.80      0.39      0.52       393\n",
      "\n",
      "    accuracy                           0.86      2000\n",
      "   macro avg       0.83      0.68      0.72      2000\n",
      "weighted avg       0.85      0.86      0.84      2000\n",
      "\n"
     ]
    }
   ],
   "source": [
    "print(\"************************\")\n",
    "print(\"Training Accuracy :\",classification_report(y_train, pred_evc_train))\n",
    "print(\"************************\")\n",
    "print(\"Testb Accuracy :\",classification_report(y_test, pred_evc_test))"
   ]
  },
  {
   "cell_type": "code",
   "execution_count": 33,
   "id": "69623ccd-7bd6-4f32-905b-0aed1bf34695",
   "metadata": {},
   "outputs": [
    {
     "name": "stdout",
     "output_type": "stream",
     "text": [
      "************************\n",
      "[[6334   22]\n",
      " [ 682  962]]\n",
      "************************\n",
      "[[1569   38]\n",
      " [ 241  152]]\n"
     ]
    }
   ],
   "source": [
    "print(\"************************\")\n",
    "print(confusion_matrix(y_train, pred_evc_train))\n",
    "print(\"************************\")\n",
    "print(confusion_matrix(y_test, pred_evc_test))"
   ]
  },
  {
   "cell_type": "markdown",
   "id": "5fdcf0fb-1fb9-4180-8b44-b54713f5e600",
   "metadata": {},
   "source": [
    "# END"
   ]
  },
  {
   "cell_type": "code",
   "execution_count": null,
   "id": "dfde2a93-1c27-4b3b-92cf-f3013c773055",
   "metadata": {},
   "outputs": [],
   "source": []
  },
  {
   "cell_type": "code",
   "execution_count": null,
   "id": "5259dd29-6100-4688-ba28-0ec63ce53b91",
   "metadata": {},
   "outputs": [],
   "source": []
  },
  {
   "cell_type": "code",
   "execution_count": null,
   "id": "b29d5dc1-61b5-491c-ac8f-feec7bea4815",
   "metadata": {},
   "outputs": [],
   "source": []
  }
 ],
 "metadata": {
  "kernelspec": {
   "display_name": "Python 3 (ipykernel)",
   "language": "python",
   "name": "python3"
  },
  "language_info": {
   "codemirror_mode": {
    "name": "ipython",
    "version": 3
   },
   "file_extension": ".py",
   "mimetype": "text/x-python",
   "name": "python",
   "nbconvert_exporter": "python",
   "pygments_lexer": "ipython3",
   "version": "3.11.7"
  }
 },
 "nbformat": 4,
 "nbformat_minor": 5
}
